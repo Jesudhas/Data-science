{
 "cells": [
  {
   "cell_type": "code",
   "execution_count": 1,
   "id": "e334c791",
   "metadata": {},
   "outputs": [],
   "source": [
    "import pandas as pd\n",
    "import numpy as np\n",
    "import matplotlib.pyplot as plt\n",
    "import seaborn as sns\n",
    "import matplotlib.style as style\n",
    "import matplotlib\n",
    "\n",
    "import gensim as gensim\n",
    "import nltk\n",
    "from sklearn.feature_extraction.text import CountVectorizer\n",
    "import re\n",
    "\n",
    "import json"
   ]
  },
  {
   "cell_type": "code",
   "execution_count": 2,
   "id": "0611a425",
   "metadata": {},
   "outputs": [
    {
     "name": "stdout",
     "output_type": "stream",
     "text": [
      "(9721, 11)\n"
     ]
    },
    {
     "data": {
      "text/html": [
       "<div>\n",
       "<style scoped>\n",
       "    .dataframe tbody tr th:only-of-type {\n",
       "        vertical-align: middle;\n",
       "    }\n",
       "\n",
       "    .dataframe tbody tr th {\n",
       "        vertical-align: top;\n",
       "    }\n",
       "\n",
       "    .dataframe thead th {\n",
       "        text-align: right;\n",
       "    }\n",
       "</style>\n",
       "<table border=\"1\" class=\"dataframe\">\n",
       "  <thead>\n",
       "    <tr style=\"text-align: right;\">\n",
       "      <th></th>\n",
       "      <th>post_id</th>\n",
       "      <th>title</th>\n",
       "      <th>selftext</th>\n",
       "      <th>url</th>\n",
       "      <th>author</th>\n",
       "      <th>score</th>\n",
       "      <th>publish_date</th>\n",
       "      <th>num_of_comments</th>\n",
       "      <th>permalink</th>\n",
       "      <th>flair</th>\n",
       "      <th>key_word</th>\n",
       "    </tr>\n",
       "  </thead>\n",
       "  <tbody>\n",
       "    <tr>\n",
       "      <th>0</th>\n",
       "      <td>7nlpzs</td>\n",
       "      <td>Playing with a more delicate representation of...</td>\n",
       "      <td>NaN</td>\n",
       "      <td>https://i.redd.it/x7cn304ovm701.jpg</td>\n",
       "      <td>paddyb7981</td>\n",
       "      <td>1</td>\n",
       "      <td>1/2/2018 4:43</td>\n",
       "      <td>0</td>\n",
       "      <td>/r/food/comments/7nlpzs/playing_with_a_more_de...</td>\n",
       "      <td>Vegan/Vegetarian</td>\n",
       "      <td>Vegan</td>\n",
       "    </tr>\n",
       "    <tr>\n",
       "      <th>1</th>\n",
       "      <td>7npmbn</td>\n",
       "      <td>Vegan Ramen, took me 2 hours to make the broth...</td>\n",
       "      <td>NaN</td>\n",
       "      <td>https://i.redd.it/rt4o2ry94q701.jpg</td>\n",
       "      <td>tomaz90</td>\n",
       "      <td>1</td>\n",
       "      <td>1/2/2018 15:37</td>\n",
       "      <td>0</td>\n",
       "      <td>/r/food/comments/7npmbn/vegan_ramen_took_me_2_...</td>\n",
       "      <td>NaN</td>\n",
       "      <td>Vegan</td>\n",
       "    </tr>\n",
       "    <tr>\n",
       "      <th>2</th>\n",
       "      <td>7nr0x1</td>\n",
       "      <td>[I ate] vegan blue Sheppard's Pie</td>\n",
       "      <td>NaN</td>\n",
       "      <td>https://i.redd.it/yerch8ge5r701.jpg</td>\n",
       "      <td>peeppeeppeeper</td>\n",
       "      <td>1</td>\n",
       "      <td>1/2/2018 19:05</td>\n",
       "      <td>0</td>\n",
       "      <td>/r/food/comments/7nr0x1/i_ate_vegan_blue_shepp...</td>\n",
       "      <td>NaN</td>\n",
       "      <td>Vegan</td>\n",
       "    </tr>\n",
       "    <tr>\n",
       "      <th>3</th>\n",
       "      <td>7nu86p</td>\n",
       "      <td>[Homemade] Recipe Tofu Meat Loaf and Vegan TVP</td>\n",
       "      <td>NaN</td>\n",
       "      <td>https://www.youtube.com/attribution_link?a=bOF...</td>\n",
       "      <td>jasmin6391</td>\n",
       "      <td>1</td>\n",
       "      <td>1/3/2018 6:04</td>\n",
       "      <td>1</td>\n",
       "      <td>/r/food/comments/7nu86p/homemade_recipe_tofu_m...</td>\n",
       "      <td>NaN</td>\n",
       "      <td>Vegan</td>\n",
       "    </tr>\n",
       "    <tr>\n",
       "      <th>4</th>\n",
       "      <td>7nz0cd</td>\n",
       "      <td>Vegan Chocolate Coconut Caramel Cupcake [Homem...</td>\n",
       "      <td>NaN</td>\n",
       "      <td>https://i.redd.it/08l29ylc1y701.jpg</td>\n",
       "      <td>angielusbakery</td>\n",
       "      <td>1</td>\n",
       "      <td>1/3/2018 18:15</td>\n",
       "      <td>0</td>\n",
       "      <td>/r/food/comments/7nz0cd/vegan_chocolate_coconu...</td>\n",
       "      <td>NaN</td>\n",
       "      <td>Vegan</td>\n",
       "    </tr>\n",
       "    <tr>\n",
       "      <th>...</th>\n",
       "      <td>...</td>\n",
       "      <td>...</td>\n",
       "      <td>...</td>\n",
       "      <td>...</td>\n",
       "      <td>...</td>\n",
       "      <td>...</td>\n",
       "      <td>...</td>\n",
       "      <td>...</td>\n",
       "      <td>...</td>\n",
       "      <td>...</td>\n",
       "      <td>...</td>\n",
       "    </tr>\n",
       "    <tr>\n",
       "      <th>9716</th>\n",
       "      <td>u7f9a7</td>\n",
       "      <td>[I ate] Elk meat pasty</td>\n",
       "      <td>NaN</td>\n",
       "      <td>https://i.imgur.com/OlYb5aE.jpg</td>\n",
       "      <td>lo-key-glass</td>\n",
       "      <td>1</td>\n",
       "      <td>4/19/2022 15:54</td>\n",
       "      <td>1</td>\n",
       "      <td>/r/food/comments/u7f9a7/i_ate_elk_meat_pasty/</td>\n",
       "      <td>NaN</td>\n",
       "      <td>meat</td>\n",
       "    </tr>\n",
       "    <tr>\n",
       "      <th>9717</th>\n",
       "      <td>u8hi3q</td>\n",
       "      <td>[homemade] veal meat ð (last Saturday)</td>\n",
       "      <td>NaN</td>\n",
       "      <td>https://www.reddit.com/gallery/u8hi3q</td>\n",
       "      <td>THE_VOLK87</td>\n",
       "      <td>1</td>\n",
       "      <td>4/21/2022 1:57</td>\n",
       "      <td>1</td>\n",
       "      <td>/r/food/comments/u8hi3q/homemade_veal_meat_las...</td>\n",
       "      <td>NaN</td>\n",
       "      <td>meat</td>\n",
       "    </tr>\n",
       "    <tr>\n",
       "      <th>9718</th>\n",
       "      <td>u8hisw</td>\n",
       "      <td>veal meat [homemade] last Saturday</td>\n",
       "      <td>NaN</td>\n",
       "      <td>https://www.reddit.com/gallery/u8hisw</td>\n",
       "      <td>THE_VOLK87</td>\n",
       "      <td>1</td>\n",
       "      <td>4/21/2022 1:58</td>\n",
       "      <td>1</td>\n",
       "      <td>/r/food/comments/u8hisw/veal_meat_homemade_las...</td>\n",
       "      <td>NaN</td>\n",
       "      <td>meat</td>\n",
       "    </tr>\n",
       "    <tr>\n",
       "      <th>9719</th>\n",
       "      <td>u90yob</td>\n",
       "      <td>[Homemade]This is my take on a Japanese Gyudon...</td>\n",
       "      <td>NaN</td>\n",
       "      <td>https://i.redd.it/dgmaw5l3zyu81.jpg</td>\n",
       "      <td>Irizarryeats</td>\n",
       "      <td>1</td>\n",
       "      <td>4/21/2022 18:49</td>\n",
       "      <td>1</td>\n",
       "      <td>/r/food/comments/u90yob/homemadethis_is_my_tak...</td>\n",
       "      <td>NaN</td>\n",
       "      <td>meat</td>\n",
       "    </tr>\n",
       "    <tr>\n",
       "      <th>9720</th>\n",
       "      <td>u9glxg</td>\n",
       "      <td>[Homemade] Minced Meat pie</td>\n",
       "      <td>NaN</td>\n",
       "      <td>https://i.redd.it/4oqvykiyg3v81.jpg</td>\n",
       "      <td>Lovemesomediscgolf</td>\n",
       "      <td>1</td>\n",
       "      <td>4/22/2022 9:57</td>\n",
       "      <td>1</td>\n",
       "      <td>/r/food/comments/u9glxg/homemade_minced_meat_pie/</td>\n",
       "      <td>NaN</td>\n",
       "      <td>meat</td>\n",
       "    </tr>\n",
       "  </tbody>\n",
       "</table>\n",
       "<p>9721 rows × 11 columns</p>\n",
       "</div>"
      ],
      "text/plain": [
       "     post_id                                              title  selftext  \\\n",
       "0     7nlpzs  Playing with a more delicate representation of...       NaN   \n",
       "1     7npmbn  Vegan Ramen, took me 2 hours to make the broth...       NaN   \n",
       "2     7nr0x1                  [I ate] vegan blue Sheppard's Pie       NaN   \n",
       "3     7nu86p     [Homemade] Recipe Tofu Meat Loaf and Vegan TVP       NaN   \n",
       "4     7nz0cd  Vegan Chocolate Coconut Caramel Cupcake [Homem...       NaN   \n",
       "...      ...                                                ...       ...   \n",
       "9716  u7f9a7                             [I ate] Elk meat pasty       NaN   \n",
       "9717  u8hi3q          [homemade] veal meat ð (last Saturday)       NaN   \n",
       "9718  u8hisw                 veal meat [homemade] last Saturday       NaN   \n",
       "9719  u90yob  [Homemade]This is my take on a Japanese Gyudon...       NaN   \n",
       "9720  u9glxg                         [Homemade] Minced Meat pie       NaN   \n",
       "\n",
       "                                                    url              author  \\\n",
       "0                   https://i.redd.it/x7cn304ovm701.jpg          paddyb7981   \n",
       "1                   https://i.redd.it/rt4o2ry94q701.jpg             tomaz90   \n",
       "2                   https://i.redd.it/yerch8ge5r701.jpg      peeppeeppeeper   \n",
       "3     https://www.youtube.com/attribution_link?a=bOF...          jasmin6391   \n",
       "4                   https://i.redd.it/08l29ylc1y701.jpg      angielusbakery   \n",
       "...                                                 ...                 ...   \n",
       "9716                    https://i.imgur.com/OlYb5aE.jpg        lo-key-glass   \n",
       "9717              https://www.reddit.com/gallery/u8hi3q          THE_VOLK87   \n",
       "9718              https://www.reddit.com/gallery/u8hisw          THE_VOLK87   \n",
       "9719                https://i.redd.it/dgmaw5l3zyu81.jpg        Irizarryeats   \n",
       "9720                https://i.redd.it/4oqvykiyg3v81.jpg  Lovemesomediscgolf   \n",
       "\n",
       "      score     publish_date  num_of_comments  \\\n",
       "0         1    1/2/2018 4:43                0   \n",
       "1         1   1/2/2018 15:37                0   \n",
       "2         1   1/2/2018 19:05                0   \n",
       "3         1    1/3/2018 6:04                1   \n",
       "4         1   1/3/2018 18:15                0   \n",
       "...     ...              ...              ...   \n",
       "9716      1  4/19/2022 15:54                1   \n",
       "9717      1   4/21/2022 1:57                1   \n",
       "9718      1   4/21/2022 1:58                1   \n",
       "9719      1  4/21/2022 18:49                1   \n",
       "9720      1   4/22/2022 9:57                1   \n",
       "\n",
       "                                              permalink             flair  \\\n",
       "0     /r/food/comments/7nlpzs/playing_with_a_more_de...  Vegan/Vegetarian   \n",
       "1     /r/food/comments/7npmbn/vegan_ramen_took_me_2_...               NaN   \n",
       "2     /r/food/comments/7nr0x1/i_ate_vegan_blue_shepp...               NaN   \n",
       "3     /r/food/comments/7nu86p/homemade_recipe_tofu_m...               NaN   \n",
       "4     /r/food/comments/7nz0cd/vegan_chocolate_coconu...               NaN   \n",
       "...                                                 ...               ...   \n",
       "9716      /r/food/comments/u7f9a7/i_ate_elk_meat_pasty/               NaN   \n",
       "9717  /r/food/comments/u8hi3q/homemade_veal_meat_las...               NaN   \n",
       "9718  /r/food/comments/u8hisw/veal_meat_homemade_las...               NaN   \n",
       "9719  /r/food/comments/u90yob/homemadethis_is_my_tak...               NaN   \n",
       "9720  /r/food/comments/u9glxg/homemade_minced_meat_pie/               NaN   \n",
       "\n",
       "     key_word  \n",
       "0       Vegan  \n",
       "1       Vegan  \n",
       "2       Vegan  \n",
       "3       Vegan  \n",
       "4       Vegan  \n",
       "...       ...  \n",
       "9716     meat  \n",
       "9717     meat  \n",
       "9718     meat  \n",
       "9719     meat  \n",
       "9720     meat  \n",
       "\n",
       "[9721 rows x 11 columns]"
      ]
     },
     "execution_count": 2,
     "metadata": {},
     "output_type": "execute_result"
    }
   ],
   "source": [
    "reddit_df = pd.read_csv(r'C:\\UNT\\Courses\\INFO 6945\\Reddit\\reddit.csv', encoding = 'unicode_escape')\n",
    "\n",
    "print(reddit_df.shape)\n",
    "reddit_df"
   ]
  },
  {
   "cell_type": "code",
   "execution_count": 3,
   "id": "383c9cda",
   "metadata": {},
   "outputs": [
    {
     "name": "stdout",
     "output_type": "stream",
     "text": [
      "Total number of posts: \n",
      "9721 \n",
      "\n",
      "Sample posts: \n",
      "['Playing with a more delicate representation of the English Classic â\\x80\\x98Eton Messâ\\x80\\x99 also Vegan Friendly', 'Vegan Ramen, took me 2 hours to make the broth and it was worth it.', \"[I ate] vegan blue Sheppard's Pie\"]\n"
     ]
    }
   ],
   "source": [
    "# Get all posts(string) in a list\n",
    "\n",
    "posts_list = reddit_df['title'].tolist()\n",
    "        \n",
    "print(\"Total number of posts: \\n{} \\n\".format(len(posts_list)))\n",
    "print(\"Sample posts: \\n{}\".format(posts_list[:3]))"
   ]
  },
  {
   "cell_type": "code",
   "execution_count": 4,
   "id": "b1ae2a3d",
   "metadata": {},
   "outputs": [],
   "source": [
    "from nltk.tokenize import RegexpTokenizer\n",
    "# splits string into substrings using a regular expression\n",
    "# tokenises words that contain 1 or more (+) alphanumeric characters (\\w) or '@'\n",
    "retokenizer = RegexpTokenizer(r'[\\w@]+')\n",
    "\n",
    "# create stop words list\n",
    "from nltk.corpus import stopwords\n",
    "stop_words = stopwords.words('english')\n",
    "# add context specific stop words\n",
    "stop_words += [\"rt\", \"got\", \"thats\", \"would\", \"going\", \"u\", \"get\", \n",
    "                \"also\", \"one\", \"could\", \"said\", \"like\", \"singapore\",\n",
    "                \"coronavirus\", \"covid\", \"say\"]\n",
    "\n",
    "# create lemmatizer\n",
    "wnl = nltk.stem.wordnet.WordNetLemmatizer()\n",
    "\n",
    "# text pre-processing functions \n",
    "def remove_urls(s):\n",
    "    # re.sub(pattern,repl,string) is used to replace substrings. Will replace the matches in string with repl\n",
    "    return re.sub(r'https?://\\S+', \"\", s)\n",
    "\n",
    "def remove_usernames(s):\n",
    "    return re.sub(r'@\\S+', \"\", s)\n",
    "\n",
    "def remove_specialchar(text, remove_digits=False):    \n",
    "    if not remove_digits:\n",
    "        pattern = r'[^a-zA-z0-9\\s]'\n",
    "    else:\n",
    "        pattern = r'[^a-zA-z\\s]'\n",
    "    text = re.sub(pattern, '', text)\n",
    "    return text"
   ]
  },
  {
   "cell_type": "code",
   "execution_count": 5,
   "id": "8702659e",
   "metadata": {},
   "outputs": [],
   "source": [
    "def process_text(documents):\n",
    "    processed_docs = []\n",
    "    doc_tokens = []\n",
    "    for doc in documents:\n",
    "        doc = doc.lower()\n",
    "        doc = remove_urls(doc)\n",
    "        doc = remove_usernames(doc)\n",
    "        doc = remove_specialchar(doc, remove_digits=True)\n",
    "        doc_tokens = retokenizer.tokenize(doc)\n",
    "        doc_tokens = [token for token in doc_tokens if token not in stop_words]\n",
    "        doc_tokens = [wnl.lemmatize(token) for token in doc_tokens]    \n",
    "#         doc = ' '.join(doc_tokens)\n",
    "        processed_docs.append(doc_tokens)\n",
    "#         print(doc_tokens)\n",
    "    return processed_docs"
   ]
  },
  {
   "cell_type": "code",
   "execution_count": 6,
   "id": "16ddb247",
   "metadata": {},
   "outputs": [
    {
     "name": "stdout",
     "output_type": "stream",
     "text": [
      "9721\n"
     ]
    }
   ],
   "source": [
    "processed_posts = process_text(posts_list)\n",
    "print(len(processed_posts))\n",
    "# print(processed_posts)"
   ]
  },
  {
   "cell_type": "markdown",
   "id": "35f6fa28",
   "metadata": {},
   "source": [
    "# Topic Modelling"
   ]
  },
  {
   "cell_type": "raw",
   "id": "16bfbe42",
   "metadata": {},
   "source": [
    "gensim dictionary assigns an integer id to each unique word in the corpus"
   ]
  },
  {
   "cell_type": "code",
   "execution_count": 7,
   "id": "e9b5c790",
   "metadata": {},
   "outputs": [
    {
     "name": "stdout",
     "output_type": "stream",
     "text": [
      "Sample word to id mappings:\n",
      " [(0, 'classic'), (1, 'delicate'), (2, 'english'), (3, 'eton'), (4, 'friendly'), (5, 'mess'), (6, 'playing'), (7, 'representation'), (8, 'vegan'), (9, 'broth'), (10, 'hour'), (11, 'make'), (12, 'ramen'), (13, 'took'), (14, 'worth'), (15, 'ate'), (16, 'blue'), (17, 'pie'), (18, 'sheppards'), (19, 'homemade'), (20, 'loaf'), (21, 'meat'), (22, 'recipe'), (23, 'tofu'), (24, 'tvp'), (25, 'caramel'), (26, 'chocolate'), (27, 'coconut'), (28, 'cupcake'), (29, 'bbq'), (30, 'burger'), (31, 'falafel'), (32, 'level'), (33, 'next'), (34, 'southampton'), (35, 'uk'), (36, 'union'), (37, 'hemp'), (38, 'best'), (39, 'cuisine'), (40, 'enjoy'), (41, 'food'), (42, 'indian'), (43, 'mississauga'), (44, 'place'), (45, 'first'), (46, 'fresh'), (47, 'lasagna'), (48, 'themicrowave'), (49, 'l'), (50, 'meating'), (51, 'melody'), (52, 'misc'), (53, 'pleasure'), (54, 'pragmatic'), (55, 'schoenfeld'), (56, 'chilli'), (57, 'dog'), (58, 'green'), (59, 'mini'), (60, 'mustard'), (61, 'new'), (62, 'onion'), (63, 'york'), (64, 'dish'), (65, 'veganuary'), (66, 'made'), (67, 'barbecue'), (68, 'boiled'), (69, 'cake'), (70, 'carrot'), (71, 'chicken'), (72, 'corn'), (73, 'herb'), (74, 'liver')]\n",
      "Total Vocabulary Size: 7584\n"
     ]
    }
   ],
   "source": [
    "# Create a dictionary representation of the documents. Each word gets an id\n",
    "dictionary = gensim.corpora.Dictionary(processed_posts)\n",
    "\n",
    "print('Sample word to id mappings:\\n', list(dictionary.items())[:75])\n",
    "print('Total Vocabulary Size:', len(dictionary))"
   ]
  },
  {
   "cell_type": "markdown",
   "id": "6e1b2039",
   "metadata": {},
   "source": [
    "# Create the vector space model (bag of words model in gensim)"
   ]
  },
  {
   "cell_type": "raw",
   "id": "e3e0002f",
   "metadata": {},
   "source": [
    "The function doc2bow() counts the number of occurrences of each unique word, converts the word to its integer word id and returns the result as a sparse vector (words from the dictionary not present in the document are not stored in the document vector)"
   ]
  },
  {
   "cell_type": "code",
   "execution_count": 8,
   "id": "0ca6eb7e",
   "metadata": {},
   "outputs": [],
   "source": [
    "# Transforming corpus into bag of words vectors\n",
    "corpus_vect = [dictionary.doc2bow(text) for text in processed_posts]"
   ]
  },
  {
   "cell_type": "code",
   "execution_count": 10,
   "id": "ad924880",
   "metadata": {},
   "outputs": [
    {
     "name": "stdout",
     "output_type": "stream",
     "text": [
      "[(8, 1), (15, 1), (16, 1), (17, 1), (18, 1)]\n",
      "\n",
      "\n",
      "['ate', 'vegan', 'blue', 'sheppards', 'pie']\n"
     ]
    }
   ],
   "source": [
    "# Check how the vector looks for the second document\n",
    "\n",
    "print(corpus_vect[2])\n",
    "print(\"\\n\", )\n",
    "print(processed_posts[2])"
   ]
  },
  {
   "cell_type": "code",
   "execution_count": 11,
   "id": "40ae1fb4",
   "metadata": {},
   "outputs": [
    {
     "name": "stdout",
     "output_type": "stream",
     "text": [
      "<class 'list'>\n",
      "9721\n"
     ]
    }
   ],
   "source": [
    "print(type(corpus_vect))\n",
    "print(len(corpus_vect))"
   ]
  },
  {
   "cell_type": "code",
   "execution_count": 17,
   "id": "5211898a",
   "metadata": {},
   "outputs": [
    {
     "name": "stdout",
     "output_type": "stream",
     "text": [
      "[('vegan', 1), ('broth', 1), ('hour', 1), ('make', 1), ('ramen', 1), ('took', 1), ('worth', 1)]\n"
     ]
    }
   ],
   "source": [
    "# Viewing them as terms and their document frequencies, index into the dictionary\n",
    "\n",
    "print([(dictionary[id] , freq) for id, freq in corpus_vect[1][:20]])"
   ]
  },
  {
   "cell_type": "markdown",
   "id": "e2534727",
   "metadata": {},
   "source": [
    "# Build the LDA model"
   ]
  },
  {
   "cell_type": "code",
   "execution_count": 13,
   "id": "f5d25359",
   "metadata": {},
   "outputs": [],
   "source": [
    "num_topics = 4"
   ]
  },
  {
   "cell_type": "code",
   "execution_count": 15,
   "id": "c6c7dd66",
   "metadata": {},
   "outputs": [
    {
     "name": "stdout",
     "output_type": "stream",
     "text": [
      "Note: you may need to restart the kernel to use updated packages.\n"
     ]
    },
    {
     "name": "stderr",
     "output_type": "stream",
     "text": [
      "ERROR: Could not find a version that satisfies the requirement pickle (from versions: none)\n",
      "ERROR: No matching distribution found for pickle\n"
     ]
    }
   ],
   "source": [
    "pip install pickle"
   ]
  },
  {
   "cell_type": "code",
   "execution_count": 32,
   "id": "c81301c8",
   "metadata": {},
   "outputs": [],
   "source": [
    "# Build LDA model\n",
    "\n",
    "ldamodel = gensim.models.ldamodel.LdaModel(corpus_vect, num_topics = num_topics, id2word=dictionary, passes=25)"
   ]
  },
  {
   "cell_type": "code",
   "execution_count": 33,
   "id": "661762fe",
   "metadata": {},
   "outputs": [
    {
     "name": "stdout",
     "output_type": "stream",
     "text": [
      "<class 'gensim.models.ldamodel.LdaModel'>\n"
     ]
    }
   ],
   "source": [
    "print(type(ldamodel))"
   ]
  },
  {
   "cell_type": "code",
   "execution_count": 34,
   "id": "99280fb1",
   "metadata": {},
   "outputs": [
    {
     "name": "stdout",
     "output_type": "stream",
     "text": [
      "[(0, '0.184*\"meat\" + 0.087*\"homemade\" + 0.051*\"cheese\" + 0.039*\"ate\" + 0.016*\"board\" + 0.013*\"smoked\" + 0.013*\"pizza\" + 0.012*\"pie\" + 0.012*\"sauce\" + 0.010*\"platter\"'), (1, '0.070*\"meat\" + 0.038*\"homemade\" + 0.034*\"vegetable\" + 0.033*\"ate\" + 0.018*\"noodle\" + 0.018*\"rice\" + 0.012*\"pork\" + 0.011*\"dish\" + 0.009*\"roll\" + 0.009*\"fish\"'), (2, '0.068*\"vegan\" + 0.017*\"homemade\" + 0.016*\"recipe\" + 0.014*\"made\" + 0.013*\"food\" + 0.010*\"cake\" + 0.010*\"chocolate\" + 0.008*\"make\" + 0.008*\"first\" + 0.008*\"best\"'), (3, '0.098*\"homemade\" + 0.067*\"vegetable\" + 0.024*\"chicken\" + 0.023*\"sauce\" + 0.020*\"potato\" + 0.019*\"vegan\" + 0.016*\"roasted\" + 0.013*\"rice\" + 0.012*\"grilled\" + 0.011*\"garlic\"')]\n"
     ]
    }
   ],
   "source": [
    "print(ldamodel.print_topics(num_topics = num_topics, num_words = 10))"
   ]
  },
  {
   "cell_type": "code",
   "execution_count": 35,
   "id": "b186bce4",
   "metadata": {},
   "outputs": [
    {
     "name": "stdout",
     "output_type": "stream",
     "text": [
      "0: 0.184*\"meat\" + 0.087*\"homemade\" + 0.051*\"cheese\" + 0.039*\"ate\" + 0.016*\"board\" + 0.013*\"smoked\" + 0.013*\"pizza\" + 0.012*\"pie\" + 0.012*\"sauce\" + 0.010*\"platter\"\n",
      "1: 0.070*\"meat\" + 0.038*\"homemade\" + 0.034*\"vegetable\" + 0.033*\"ate\" + 0.018*\"noodle\" + 0.018*\"rice\" + 0.012*\"pork\" + 0.011*\"dish\" + 0.009*\"roll\" + 0.009*\"fish\"\n",
      "2: 0.068*\"vegan\" + 0.017*\"homemade\" + 0.016*\"recipe\" + 0.014*\"made\" + 0.013*\"food\" + 0.010*\"cake\" + 0.010*\"chocolate\" + 0.008*\"make\" + 0.008*\"first\" + 0.008*\"best\"\n",
      "3: 0.098*\"homemade\" + 0.067*\"vegetable\" + 0.024*\"chicken\" + 0.023*\"sauce\" + 0.020*\"potato\" + 0.019*\"vegan\" + 0.016*\"roasted\" + 0.013*\"rice\" + 0.012*\"grilled\" + 0.011*\"garlic\"\n"
     ]
    }
   ],
   "source": [
    "# Show top 10 words for each topic\n",
    "# Topic will be inferred from the words\n",
    "\n",
    "for num ,topic in ldamodel.show_topics(formatted=True, num_topics=num_topics, num_words=10):\n",
    "    print(str(num)+\": \"+ topic)"
   ]
  },
  {
   "cell_type": "code",
   "execution_count": 45,
   "id": "7cc99306",
   "metadata": {},
   "outputs": [
    {
     "name": "stdout",
     "output_type": "stream",
     "text": [
      "(3, '0.098*\"homemade\" + 0.067*\"vegetable\" + 0.024*\"chicken\" + 0.023*\"sauce\" + 0.020*\"potato\" + 0.019*\"vegan\" + 0.016*\"roasted\" + 0.013*\"rice\" + 0.012*\"grilled\" + 0.011*\"garlic\"')\n"
     ]
    }
   ],
   "source": [
    "# To access and print topics from LDA model\n",
    "\n",
    "topics = ldamodel.show_topics(formatted=True, num_topics=num_topics, num_words=10)\n",
    "print(topics[3])"
   ]
  },
  {
   "cell_type": "markdown",
   "id": "f74ed5aa",
   "metadata": {},
   "source": [
    "# Compute Coherence Score"
   ]
  },
  {
   "cell_type": "code",
   "execution_count": 46,
   "id": "b5148dd3",
   "metadata": {},
   "outputs": [
    {
     "name": "stdout",
     "output_type": "stream",
     "text": [
      "\n",
      "Coherence Score:  0.38130755693010204\n"
     ]
    }
   ],
   "source": [
    "from gensim.models import CoherenceModel\n",
    "\n",
    "# Compute Coherence Score for LDA Model\n",
    "coherence_model_lda = CoherenceModel(model=ldamodel, texts=processed_posts, dictionary=dictionary, coherence='c_v')\n",
    "coherence_lda = coherence_model_lda.get_coherence()\n",
    "print('\\nCoherence Score: ', coherence_lda)"
   ]
  },
  {
   "cell_type": "markdown",
   "id": "9ca3dc5a",
   "metadata": {},
   "source": [
    "# Get Dominoin Topic for each post"
   ]
  },
  {
   "cell_type": "code",
   "execution_count": 47,
   "id": "6f85073e",
   "metadata": {},
   "outputs": [
    {
     "data": {
      "text/html": [
       "<div>\n",
       "<style scoped>\n",
       "    .dataframe tbody tr th:only-of-type {\n",
       "        vertical-align: middle;\n",
       "    }\n",
       "\n",
       "    .dataframe tbody tr th {\n",
       "        vertical-align: top;\n",
       "    }\n",
       "\n",
       "    .dataframe thead th {\n",
       "        text-align: right;\n",
       "    }\n",
       "</style>\n",
       "<table border=\"1\" class=\"dataframe\">\n",
       "  <thead>\n",
       "    <tr style=\"text-align: right;\">\n",
       "      <th></th>\n",
       "      <th>Document_No</th>\n",
       "      <th>Dominant_Topic</th>\n",
       "      <th>Topic_Perc_Contrib</th>\n",
       "      <th>Keywords</th>\n",
       "      <th>Text</th>\n",
       "    </tr>\n",
       "  </thead>\n",
       "  <tbody>\n",
       "    <tr>\n",
       "      <th>0</th>\n",
       "      <td>0</td>\n",
       "      <td>2.0</td>\n",
       "      <td>0.9241</td>\n",
       "      <td>vegan, homemade, recipe, made, food, cake, cho...</td>\n",
       "      <td>[playing, delicate, representation, english, c...</td>\n",
       "    </tr>\n",
       "    <tr>\n",
       "      <th>1</th>\n",
       "      <td>1</td>\n",
       "      <td>2.0</td>\n",
       "      <td>0.5309</td>\n",
       "      <td>vegan, homemade, recipe, made, food, cake, cho...</td>\n",
       "      <td>[vegan, ramen, took, hour, make, broth, worth]</td>\n",
       "    </tr>\n",
       "    <tr>\n",
       "      <th>2</th>\n",
       "      <td>2</td>\n",
       "      <td>3.0</td>\n",
       "      <td>0.5878</td>\n",
       "      <td>homemade, vegetable, chicken, sauce, potato, v...</td>\n",
       "      <td>[ate, vegan, blue, sheppards, pie]</td>\n",
       "    </tr>\n",
       "    <tr>\n",
       "      <th>3</th>\n",
       "      <td>3</td>\n",
       "      <td>0.0</td>\n",
       "      <td>0.5232</td>\n",
       "      <td>meat, homemade, cheese, ate, board, smoked, pi...</td>\n",
       "      <td>[homemade, recipe, tofu, meat, loaf, vegan, tvp]</td>\n",
       "    </tr>\n",
       "    <tr>\n",
       "      <th>4</th>\n",
       "      <td>4</td>\n",
       "      <td>2.0</td>\n",
       "      <td>0.8859</td>\n",
       "      <td>vegan, homemade, recipe, made, food, cake, cho...</td>\n",
       "      <td>[vegan, chocolate, coconut, caramel, cupcake, ...</td>\n",
       "    </tr>\n",
       "    <tr>\n",
       "      <th>5</th>\n",
       "      <td>5</td>\n",
       "      <td>2.0</td>\n",
       "      <td>0.4917</td>\n",
       "      <td>vegan, homemade, recipe, made, food, cake, cho...</td>\n",
       "      <td>[next, level, vegan, falafel, burger, union, b...</td>\n",
       "    </tr>\n",
       "    <tr>\n",
       "      <th>6</th>\n",
       "      <td>6</td>\n",
       "      <td>3.0</td>\n",
       "      <td>0.4168</td>\n",
       "      <td>homemade, vegetable, chicken, sauce, potato, v...</td>\n",
       "      <td>[ate, next, level, vegan, falafel, burger]</td>\n",
       "    </tr>\n",
       "    <tr>\n",
       "      <th>7</th>\n",
       "      <td>7</td>\n",
       "      <td>3.0</td>\n",
       "      <td>0.4508</td>\n",
       "      <td>homemade, vegetable, chicken, sauce, potato, v...</td>\n",
       "      <td>[ate, vegan, hemp, burger]</td>\n",
       "    </tr>\n",
       "    <tr>\n",
       "      <th>8</th>\n",
       "      <td>8</td>\n",
       "      <td>2.0</td>\n",
       "      <td>0.9247</td>\n",
       "      <td>vegan, homemade, recipe, made, food, cake, cho...</td>\n",
       "      <td>[enjoy, best, indian, cuisine, mississauga, ve...</td>\n",
       "    </tr>\n",
       "    <tr>\n",
       "      <th>9</th>\n",
       "      <td>9</td>\n",
       "      <td>2.0</td>\n",
       "      <td>0.5237</td>\n",
       "      <td>vegan, homemade, recipe, made, food, cake, cho...</td>\n",
       "      <td>[homemade, first, vegan, lasagna, fresh, themi...</td>\n",
       "    </tr>\n",
       "  </tbody>\n",
       "</table>\n",
       "</div>"
      ],
      "text/plain": [
       "   Document_No  Dominant_Topic  Topic_Perc_Contrib  \\\n",
       "0            0             2.0              0.9241   \n",
       "1            1             2.0              0.5309   \n",
       "2            2             3.0              0.5878   \n",
       "3            3             0.0              0.5232   \n",
       "4            4             2.0              0.8859   \n",
       "5            5             2.0              0.4917   \n",
       "6            6             3.0              0.4168   \n",
       "7            7             3.0              0.4508   \n",
       "8            8             2.0              0.9247   \n",
       "9            9             2.0              0.5237   \n",
       "\n",
       "                                            Keywords  \\\n",
       "0  vegan, homemade, recipe, made, food, cake, cho...   \n",
       "1  vegan, homemade, recipe, made, food, cake, cho...   \n",
       "2  homemade, vegetable, chicken, sauce, potato, v...   \n",
       "3  meat, homemade, cheese, ate, board, smoked, pi...   \n",
       "4  vegan, homemade, recipe, made, food, cake, cho...   \n",
       "5  vegan, homemade, recipe, made, food, cake, cho...   \n",
       "6  homemade, vegetable, chicken, sauce, potato, v...   \n",
       "7  homemade, vegetable, chicken, sauce, potato, v...   \n",
       "8  vegan, homemade, recipe, made, food, cake, cho...   \n",
       "9  vegan, homemade, recipe, made, food, cake, cho...   \n",
       "\n",
       "                                                Text  \n",
       "0  [playing, delicate, representation, english, c...  \n",
       "1     [vegan, ramen, took, hour, make, broth, worth]  \n",
       "2                 [ate, vegan, blue, sheppards, pie]  \n",
       "3   [homemade, recipe, tofu, meat, loaf, vegan, tvp]  \n",
       "4  [vegan, chocolate, coconut, caramel, cupcake, ...  \n",
       "5  [next, level, vegan, falafel, burger, union, b...  \n",
       "6         [ate, next, level, vegan, falafel, burger]  \n",
       "7                         [ate, vegan, hemp, burger]  \n",
       "8  [enjoy, best, indian, cuisine, mississauga, ve...  \n",
       "9  [homemade, first, vegan, lasagna, fresh, themi...  "
      ]
     },
     "execution_count": 47,
     "metadata": {},
     "output_type": "execute_result"
    }
   ],
   "source": [
    "def format_topics_sentences(ldamodel, corpus, texts):\n",
    "    # Init output\n",
    "    sent_topics_df = pd.DataFrame()\n",
    "\n",
    "    # Get main topic in each document\n",
    "    for i, row_list in enumerate(ldamodel[corpus]):\n",
    "        row = row_list[0] if ldamodel.per_word_topics else row_list            \n",
    "        # print(row)\n",
    "        row = sorted(row, key=lambda x: (x[1]), reverse=True)\n",
    "        # Get the Dominant topic, Perc Contribution and Keywords for each document\n",
    "        for j, (topic_num, prop_topic) in enumerate(row):\n",
    "            if j == 0:  # => dominant topic\n",
    "                wp = ldamodel.show_topic(topic_num)\n",
    "                topic_keywords = \", \".join([word for word, prop in wp])\n",
    "                sent_topics_df = sent_topics_df.append(pd.Series([int(topic_num), round(prop_topic,4), topic_keywords]), ignore_index=True)\n",
    "            else:\n",
    "                break\n",
    "    sent_topics_df.columns = ['Dominant_Topic', 'Perc_Contribution', 'Topic_Keywords']\n",
    "\n",
    "    # Add original text to the end of the output\n",
    "    contents = pd.Series(texts)\n",
    "    sent_topics_df = pd.concat([sent_topics_df, contents], axis=1)\n",
    "    return(sent_topics_df)\n",
    "\n",
    "\n",
    "df_topic_sents_keywords = format_topics_sentences(ldamodel=ldamodel, corpus=corpus_vect, texts=processed_posts)\n",
    "\n",
    "# Format\n",
    "df_dominant_topic = df_topic_sents_keywords.reset_index()\n",
    "df_dominant_topic.columns = ['Document_No', 'Dominant_Topic', 'Topic_Perc_Contrib', 'Keywords', 'Text']\n",
    "df_dominant_topic.head(10)"
   ]
  },
  {
   "cell_type": "code",
   "execution_count": 65,
   "id": "5a50ffa1",
   "metadata": {},
   "outputs": [
    {
     "data": {
      "text/html": [
       "<div>\n",
       "<style scoped>\n",
       "    .dataframe tbody tr th:only-of-type {\n",
       "        vertical-align: middle;\n",
       "    }\n",
       "\n",
       "    .dataframe tbody tr th {\n",
       "        vertical-align: top;\n",
       "    }\n",
       "\n",
       "    .dataframe thead th {\n",
       "        text-align: right;\n",
       "    }\n",
       "</style>\n",
       "<table border=\"1\" class=\"dataframe\">\n",
       "  <thead>\n",
       "    <tr style=\"text-align: right;\">\n",
       "      <th></th>\n",
       "      <th>Document_No</th>\n",
       "      <th>Dominant_Topic</th>\n",
       "      <th>Topic_Perc_Contrib</th>\n",
       "      <th>Keywords</th>\n",
       "      <th>Text</th>\n",
       "      <th>Dominant_Topic_Label</th>\n",
       "    </tr>\n",
       "  </thead>\n",
       "  <tbody>\n",
       "    <tr>\n",
       "      <th>9720</th>\n",
       "      <td>9720</td>\n",
       "      <td>0.0</td>\n",
       "      <td>0.8482</td>\n",
       "      <td>meat, homemade, cheese, ate, board, smoked, pi...</td>\n",
       "      <td>[homemade, minced, meat, pie]</td>\n",
       "      <td>Meat</td>\n",
       "    </tr>\n",
       "    <tr>\n",
       "      <th>7096</th>\n",
       "      <td>7096</td>\n",
       "      <td>0.0</td>\n",
       "      <td>0.6741</td>\n",
       "      <td>meat, homemade, cheese, ate, board, smoked, pi...</td>\n",
       "      <td>[homemade, wife, made, small, wonderful, meat,...</td>\n",
       "      <td>Meat</td>\n",
       "    </tr>\n",
       "    <tr>\n",
       "      <th>7095</th>\n",
       "      <td>7095</td>\n",
       "      <td>0.0</td>\n",
       "      <td>0.6402</td>\n",
       "      <td>meat, homemade, cheese, ate, board, smoked, pi...</td>\n",
       "      <td>[wife, made, small, beautiful, meat, cheese, b...</td>\n",
       "      <td>Meat</td>\n",
       "    </tr>\n",
       "    <tr>\n",
       "      <th>7094</th>\n",
       "      <td>7094</td>\n",
       "      <td>0.0</td>\n",
       "      <td>0.8669</td>\n",
       "      <td>meat, homemade, cheese, ate, board, smoked, pi...</td>\n",
       "      <td>[homemade, meat, cheese, board, friend]</td>\n",
       "      <td>Meat</td>\n",
       "    </tr>\n",
       "    <tr>\n",
       "      <th>7091</th>\n",
       "      <td>7091</td>\n",
       "      <td>0.0</td>\n",
       "      <td>0.6370</td>\n",
       "      <td>meat, homemade, cheese, ate, board, smoked, pi...</td>\n",
       "      <td>[homemade, tomato, meat, tortilla, chip, cheese]</td>\n",
       "      <td>Meat</td>\n",
       "    </tr>\n",
       "    <tr>\n",
       "      <th>...</th>\n",
       "      <td>...</td>\n",
       "      <td>...</td>\n",
       "      <td>...</td>\n",
       "      <td>...</td>\n",
       "      <td>...</td>\n",
       "      <td>...</td>\n",
       "    </tr>\n",
       "    <tr>\n",
       "      <th>6659</th>\n",
       "      <td>6659</td>\n",
       "      <td>1.0</td>\n",
       "      <td>0.7156</td>\n",
       "      <td>meat, homemade, vegetable, ate, noodle, rice, ...</td>\n",
       "      <td>[homemade, pork, belly, burnt, end, aka, meat,...</td>\n",
       "      <td>Mixed food</td>\n",
       "    </tr>\n",
       "    <tr>\n",
       "      <th>3410</th>\n",
       "      <td>3410</td>\n",
       "      <td>1.0</td>\n",
       "      <td>0.6041</td>\n",
       "      <td>meat, homemade, vegetable, ate, noodle, rice, ...</td>\n",
       "      <td>[homemade, noodle, twicefried, chicken, vegeta...</td>\n",
       "      <td>Mixed food</td>\n",
       "    </tr>\n",
       "    <tr>\n",
       "      <th>8773</th>\n",
       "      <td>8773</td>\n",
       "      <td>1.0</td>\n",
       "      <td>0.9357</td>\n",
       "      <td>meat, homemade, vegetable, ate, noodle, rice, ...</td>\n",
       "      <td>[homemade, japchae, mixed, dish, boiled, bean,...</td>\n",
       "      <td>Mixed food</td>\n",
       "    </tr>\n",
       "    <tr>\n",
       "      <th>6638</th>\n",
       "      <td>6638</td>\n",
       "      <td>1.0</td>\n",
       "      <td>0.5788</td>\n",
       "      <td>meat, homemade, vegetable, ate, noodle, rice, ...</td>\n",
       "      <td>[meat, substitute, market, booming, worldwide,...</td>\n",
       "      <td>Mixed food</td>\n",
       "    </tr>\n",
       "    <tr>\n",
       "      <th>6445</th>\n",
       "      <td>6445</td>\n",
       "      <td>1.0</td>\n",
       "      <td>0.6689</td>\n",
       "      <td>meat, homemade, vegetable, ate, noodle, rice, ...</td>\n",
       "      <td>[ate, spicy, miso, ramen, minced, meat, corn, ...</td>\n",
       "      <td>Mixed food</td>\n",
       "    </tr>\n",
       "  </tbody>\n",
       "</table>\n",
       "<p>4000 rows × 6 columns</p>\n",
       "</div>"
      ],
      "text/plain": [
       "      Document_No  Dominant_Topic  Topic_Perc_Contrib  \\\n",
       "9720         9720             0.0              0.8482   \n",
       "7096         7096             0.0              0.6741   \n",
       "7095         7095             0.0              0.6402   \n",
       "7094         7094             0.0              0.8669   \n",
       "7091         7091             0.0              0.6370   \n",
       "...           ...             ...                 ...   \n",
       "6659         6659             1.0              0.7156   \n",
       "3410         3410             1.0              0.6041   \n",
       "8773         8773             1.0              0.9357   \n",
       "6638         6638             1.0              0.5788   \n",
       "6445         6445             1.0              0.6689   \n",
       "\n",
       "                                               Keywords  \\\n",
       "9720  meat, homemade, cheese, ate, board, smoked, pi...   \n",
       "7096  meat, homemade, cheese, ate, board, smoked, pi...   \n",
       "7095  meat, homemade, cheese, ate, board, smoked, pi...   \n",
       "7094  meat, homemade, cheese, ate, board, smoked, pi...   \n",
       "7091  meat, homemade, cheese, ate, board, smoked, pi...   \n",
       "...                                                 ...   \n",
       "6659  meat, homemade, vegetable, ate, noodle, rice, ...   \n",
       "3410  meat, homemade, vegetable, ate, noodle, rice, ...   \n",
       "8773  meat, homemade, vegetable, ate, noodle, rice, ...   \n",
       "6638  meat, homemade, vegetable, ate, noodle, rice, ...   \n",
       "6445  meat, homemade, vegetable, ate, noodle, rice, ...   \n",
       "\n",
       "                                                   Text Dominant_Topic_Label  \n",
       "9720                      [homemade, minced, meat, pie]                 Meat  \n",
       "7096  [homemade, wife, made, small, wonderful, meat,...                 Meat  \n",
       "7095  [wife, made, small, beautiful, meat, cheese, b...                 Meat  \n",
       "7094            [homemade, meat, cheese, board, friend]                 Meat  \n",
       "7091   [homemade, tomato, meat, tortilla, chip, cheese]                 Meat  \n",
       "...                                                 ...                  ...  \n",
       "6659  [homemade, pork, belly, burnt, end, aka, meat,...           Mixed food  \n",
       "3410  [homemade, noodle, twicefried, chicken, vegeta...           Mixed food  \n",
       "8773  [homemade, japchae, mixed, dish, boiled, bean,...           Mixed food  \n",
       "6638  [meat, substitute, market, booming, worldwide,...           Mixed food  \n",
       "6445  [ate, spicy, miso, ramen, minced, meat, corn, ...           Mixed food  \n",
       "\n",
       "[4000 rows x 6 columns]"
      ]
     },
     "execution_count": 65,
     "metadata": {},
     "output_type": "execute_result"
    }
   ],
   "source": [
    "df_dominant_topic.sort_values(by=['Dominant_Topic']).head(4000)"
   ]
  },
  {
   "cell_type": "code",
   "execution_count": 66,
   "id": "66a8794f",
   "metadata": {},
   "outputs": [
    {
     "data": {
      "text/html": [
       "<div>\n",
       "<style scoped>\n",
       "    .dataframe tbody tr th:only-of-type {\n",
       "        vertical-align: middle;\n",
       "    }\n",
       "\n",
       "    .dataframe tbody tr th {\n",
       "        vertical-align: top;\n",
       "    }\n",
       "\n",
       "    .dataframe thead th {\n",
       "        text-align: right;\n",
       "    }\n",
       "</style>\n",
       "<table border=\"1\" class=\"dataframe\">\n",
       "  <thead>\n",
       "    <tr style=\"text-align: right;\">\n",
       "      <th></th>\n",
       "      <th>Document_No</th>\n",
       "      <th>Dominant_Topic</th>\n",
       "      <th>Topic_Perc_Contrib</th>\n",
       "      <th>Keywords</th>\n",
       "      <th>Text</th>\n",
       "      <th>Dominant_Topic_Label</th>\n",
       "    </tr>\n",
       "  </thead>\n",
       "  <tbody>\n",
       "    <tr>\n",
       "      <th>0</th>\n",
       "      <td>0</td>\n",
       "      <td>2.0</td>\n",
       "      <td>0.9241</td>\n",
       "      <td>vegan, homemade, recipe, made, food, cake, cho...</td>\n",
       "      <td>[playing, delicate, representation, english, c...</td>\n",
       "      <td>Vegeterian</td>\n",
       "    </tr>\n",
       "    <tr>\n",
       "      <th>1</th>\n",
       "      <td>1</td>\n",
       "      <td>2.0</td>\n",
       "      <td>0.5309</td>\n",
       "      <td>vegan, homemade, recipe, made, food, cake, cho...</td>\n",
       "      <td>[vegan, ramen, took, hour, make, broth, worth]</td>\n",
       "      <td>Vegeterian</td>\n",
       "    </tr>\n",
       "    <tr>\n",
       "      <th>2</th>\n",
       "      <td>2</td>\n",
       "      <td>3.0</td>\n",
       "      <td>0.5878</td>\n",
       "      <td>homemade, vegetable, chicken, sauce, potato, v...</td>\n",
       "      <td>[ate, vegan, blue, sheppards, pie]</td>\n",
       "      <td>Homemade foods</td>\n",
       "    </tr>\n",
       "    <tr>\n",
       "      <th>3</th>\n",
       "      <td>3</td>\n",
       "      <td>0.0</td>\n",
       "      <td>0.5232</td>\n",
       "      <td>meat, homemade, cheese, ate, board, smoked, pi...</td>\n",
       "      <td>[homemade, recipe, tofu, meat, loaf, vegan, tvp]</td>\n",
       "      <td>Meat</td>\n",
       "    </tr>\n",
       "    <tr>\n",
       "      <th>4</th>\n",
       "      <td>4</td>\n",
       "      <td>2.0</td>\n",
       "      <td>0.8859</td>\n",
       "      <td>vegan, homemade, recipe, made, food, cake, cho...</td>\n",
       "      <td>[vegan, chocolate, coconut, caramel, cupcake, ...</td>\n",
       "      <td>Vegeterian</td>\n",
       "    </tr>\n",
       "    <tr>\n",
       "      <th>5</th>\n",
       "      <td>5</td>\n",
       "      <td>2.0</td>\n",
       "      <td>0.4917</td>\n",
       "      <td>vegan, homemade, recipe, made, food, cake, cho...</td>\n",
       "      <td>[next, level, vegan, falafel, burger, union, b...</td>\n",
       "      <td>Vegeterian</td>\n",
       "    </tr>\n",
       "    <tr>\n",
       "      <th>6</th>\n",
       "      <td>6</td>\n",
       "      <td>3.0</td>\n",
       "      <td>0.4168</td>\n",
       "      <td>homemade, vegetable, chicken, sauce, potato, v...</td>\n",
       "      <td>[ate, next, level, vegan, falafel, burger]</td>\n",
       "      <td>Homemade foods</td>\n",
       "    </tr>\n",
       "    <tr>\n",
       "      <th>7</th>\n",
       "      <td>7</td>\n",
       "      <td>3.0</td>\n",
       "      <td>0.4508</td>\n",
       "      <td>homemade, vegetable, chicken, sauce, potato, v...</td>\n",
       "      <td>[ate, vegan, hemp, burger]</td>\n",
       "      <td>Homemade foods</td>\n",
       "    </tr>\n",
       "    <tr>\n",
       "      <th>8</th>\n",
       "      <td>8</td>\n",
       "      <td>2.0</td>\n",
       "      <td>0.9247</td>\n",
       "      <td>vegan, homemade, recipe, made, food, cake, cho...</td>\n",
       "      <td>[enjoy, best, indian, cuisine, mississauga, ve...</td>\n",
       "      <td>Vegeterian</td>\n",
       "    </tr>\n",
       "    <tr>\n",
       "      <th>9</th>\n",
       "      <td>9</td>\n",
       "      <td>2.0</td>\n",
       "      <td>0.5237</td>\n",
       "      <td>vegan, homemade, recipe, made, food, cake, cho...</td>\n",
       "      <td>[homemade, first, vegan, lasagna, fresh, themi...</td>\n",
       "      <td>Vegeterian</td>\n",
       "    </tr>\n",
       "  </tbody>\n",
       "</table>\n",
       "</div>"
      ],
      "text/plain": [
       "   Document_No  Dominant_Topic  Topic_Perc_Contrib  \\\n",
       "0            0             2.0              0.9241   \n",
       "1            1             2.0              0.5309   \n",
       "2            2             3.0              0.5878   \n",
       "3            3             0.0              0.5232   \n",
       "4            4             2.0              0.8859   \n",
       "5            5             2.0              0.4917   \n",
       "6            6             3.0              0.4168   \n",
       "7            7             3.0              0.4508   \n",
       "8            8             2.0              0.9247   \n",
       "9            9             2.0              0.5237   \n",
       "\n",
       "                                            Keywords  \\\n",
       "0  vegan, homemade, recipe, made, food, cake, cho...   \n",
       "1  vegan, homemade, recipe, made, food, cake, cho...   \n",
       "2  homemade, vegetable, chicken, sauce, potato, v...   \n",
       "3  meat, homemade, cheese, ate, board, smoked, pi...   \n",
       "4  vegan, homemade, recipe, made, food, cake, cho...   \n",
       "5  vegan, homemade, recipe, made, food, cake, cho...   \n",
       "6  homemade, vegetable, chicken, sauce, potato, v...   \n",
       "7  homemade, vegetable, chicken, sauce, potato, v...   \n",
       "8  vegan, homemade, recipe, made, food, cake, cho...   \n",
       "9  vegan, homemade, recipe, made, food, cake, cho...   \n",
       "\n",
       "                                                Text Dominant_Topic_Label  \n",
       "0  [playing, delicate, representation, english, c...           Vegeterian  \n",
       "1     [vegan, ramen, took, hour, make, broth, worth]           Vegeterian  \n",
       "2                 [ate, vegan, blue, sheppards, pie]       Homemade foods  \n",
       "3   [homemade, recipe, tofu, meat, loaf, vegan, tvp]                 Meat  \n",
       "4  [vegan, chocolate, coconut, caramel, cupcake, ...           Vegeterian  \n",
       "5  [next, level, vegan, falafel, burger, union, b...           Vegeterian  \n",
       "6         [ate, next, level, vegan, falafel, burger]       Homemade foods  \n",
       "7                         [ate, vegan, hemp, burger]       Homemade foods  \n",
       "8  [enjoy, best, indian, cuisine, mississauga, ve...           Vegeterian  \n",
       "9  [homemade, first, vegan, lasagna, fresh, themi...           Vegeterian  "
      ]
     },
     "execution_count": 66,
     "metadata": {},
     "output_type": "execute_result"
    }
   ],
   "source": [
    "# Add the topic labels\n",
    "\n",
    "topic_label = {0.0: 'Meat',\n",
    "              1.0: 'Mixed Foods',\n",
    "              2.0: 'Vegeterian',\n",
    "              3.0: 'Homemade foods'}\n",
    "\n",
    "df_dominant_topic['Dominant_Topic_Label'] = df_dominant_topic['Dominant_Topic'].apply(lambda x: topic_label[x])\n",
    "df_dominant_topic.head(10)"
   ]
  },
  {
   "cell_type": "code",
   "execution_count": 67,
   "id": "6eab21d1",
   "metadata": {},
   "outputs": [
    {
     "data": {
      "text/plain": [
       "[Text(0.5, 0, 'Topics'), Text(0, 0.5, 'Number of Reddit Posts')]"
      ]
     },
     "execution_count": 67,
     "metadata": {},
     "output_type": "execute_result"
    },
    {
     "data": {
      "image/png": "[encoded data removed]",
      "text/plain": [
       "<Figure size 720x360 with 1 Axes>"
      ]
     },
     "metadata": {},
     "output_type": "display_data"
    }
   ],
   "source": [
    "# Visualise contribution of each topics to Reddit Posts \n",
    "\n",
    "#### Plot settings ####\n",
    "style.use('seaborn-poster') #sets the size of the charts\n",
    "style.use('ggplot')\n",
    "matplotlib.rcParams['font.family'] = \"DejaVu Sans\"\n",
    "plt.rcParams['figure.figsize'] = [10, 5]\n",
    "sns.set_context('paper')\n",
    "####\n",
    "\n",
    "\n",
    "# Plot chart\n",
    "ax = sns.countplot(x=\"Dominant_Topic_Label\",\n",
    "                    data=df_dominant_topic,\n",
    "                    order = df_dominant_topic['Dominant_Topic_Label'].value_counts().index,\n",
    "                    palette=(\"Blues_d\"))\n",
    "\n",
    "\n",
    "# Add value labels\n",
    "for p in ax.patches:\n",
    "    ax.annotate(format(p.get_height(), '.0f'), (p.get_x() + p.get_width() / 2., p.get_height()), ha = 'center', va = 'center', xytext = (0, 10), textcoords = 'offset points')\n",
    "\n",
    "    \n",
    "# Change width of bars\n",
    "# def change_width(ax, new_value) :\n",
    "#     for patch in ax.patches :\n",
    "#         current_width = patch.get_width()\n",
    "#         diff = current_width - new_value\n",
    "\n",
    "#         # we change the bar width\n",
    "#         patch.set_width(new_value)\n",
    "\n",
    "#         # we recenter the bar\n",
    "#         patch.set_x(patch.get_x() + diff * .5)\n",
    "# change_width(ax, .60)\n",
    "\n",
    "\n",
    "# Add axis labels\n",
    "ax.set(xlabel='Topics', ylabel='Number of Reddit Posts')\n",
    "\n",
    "\n",
    "# plt.savefig('reddit_topic_contribution.png', dpi=400, transparent=True, bbox_inches=\"tight\")"
   ]
  },
  {
   "cell_type": "markdown",
   "id": "1726d99a",
   "metadata": {},
   "source": [
    "# Get the Most Representative Sentence Of Each Topic"
   ]
  },
  {
   "cell_type": "code",
   "execution_count": 68,
   "id": "d90e0438",
   "metadata": {},
   "outputs": [
    {
     "data": {
      "text/html": [
       "<div>\n",
       "<style scoped>\n",
       "    .dataframe tbody tr th:only-of-type {\n",
       "        vertical-align: middle;\n",
       "    }\n",
       "\n",
       "    .dataframe tbody tr th {\n",
       "        vertical-align: top;\n",
       "    }\n",
       "\n",
       "    .dataframe thead th {\n",
       "        text-align: right;\n",
       "    }\n",
       "</style>\n",
       "<table border=\"1\" class=\"dataframe\">\n",
       "  <thead>\n",
       "    <tr style=\"text-align: right;\">\n",
       "      <th></th>\n",
       "      <th>Topic_Num</th>\n",
       "      <th>Topic_Perc_Contrib</th>\n",
       "      <th>Keywords</th>\n",
       "      <th>Representative Text</th>\n",
       "    </tr>\n",
       "  </thead>\n",
       "  <tbody>\n",
       "    <tr>\n",
       "      <th>0</th>\n",
       "      <td>0.0</td>\n",
       "      <td>0.9641</td>\n",
       "      <td>meat, homemade, cheese, ate, board, smoked, pizza, pie, sauce, platter</td>\n",
       "      <td>[turkey, meat, product, market, size, share, key, growth, driver, analysis, challenge, leading, ...</td>\n",
       "    </tr>\n",
       "    <tr>\n",
       "      <th>1</th>\n",
       "      <td>1.0</td>\n",
       "      <td>0.9549</td>\n",
       "      <td>meat, homemade, vegetable, ate, noodle, rice, pork, dish, roll, fish</td>\n",
       "      <td>[homemade, tonkotsu, ramen, homemade, pork, broth, chashu, pork, belly, ajitsuke, tamago, simmer...</td>\n",
       "    </tr>\n",
       "    <tr>\n",
       "      <th>2</th>\n",
       "      <td>2.0</td>\n",
       "      <td>0.9748</td>\n",
       "      <td>vegan, homemade, recipe, made, food, cake, chocolate, make, first, best</td>\n",
       "      <td>[vegan, chocolate, frosting, review, minute, vegan, gluten, free, make, cup, easy, vegan, chocol...</td>\n",
       "    </tr>\n",
       "    <tr>\n",
       "      <th>3</th>\n",
       "      <td>3.0</td>\n",
       "      <td>0.9686</td>\n",
       "      <td>homemade, vegetable, chicken, sauce, potato, vegan, roasted, rice, grilled, garlic</td>\n",
       "      <td>[homemade, grilled, rosemary, chicken, roasted, vegetable, tapenade, bell, pepper, zucchini, egg...</td>\n",
       "    </tr>\n",
       "  </tbody>\n",
       "</table>\n",
       "</div>"
      ],
      "text/plain": [
       "   Topic_Num  Topic_Perc_Contrib  \\\n",
       "0        0.0              0.9641   \n",
       "1        1.0              0.9549   \n",
       "2        2.0              0.9748   \n",
       "3        3.0              0.9686   \n",
       "\n",
       "                                                                             Keywords  \\\n",
       "0              meat, homemade, cheese, ate, board, smoked, pizza, pie, sauce, platter   \n",
       "1                meat, homemade, vegetable, ate, noodle, rice, pork, dish, roll, fish   \n",
       "2             vegan, homemade, recipe, made, food, cake, chocolate, make, first, best   \n",
       "3  homemade, vegetable, chicken, sauce, potato, vegan, roasted, rice, grilled, garlic   \n",
       "\n",
       "                                                                                   Representative Text  \n",
       "0  [turkey, meat, product, market, size, share, key, growth, driver, analysis, challenge, leading, ...  \n",
       "1  [homemade, tonkotsu, ramen, homemade, pork, broth, chashu, pork, belly, ajitsuke, tamago, simmer...  \n",
       "2  [vegan, chocolate, frosting, review, minute, vegan, gluten, free, make, cup, easy, vegan, chocol...  \n",
       "3  [homemade, grilled, rosemary, chicken, roasted, vegetable, tapenade, bell, pepper, zucchini, egg...  "
      ]
     },
     "execution_count": 68,
     "metadata": {},
     "output_type": "execute_result"
    }
   ],
   "source": [
    "# Display setting to show more characters in column\n",
    "pd.options.display.max_colwidth = 100\n",
    "\n",
    "sent_topics_sorteddf = pd.DataFrame()\n",
    "sent_topics_outdf_grpd = df_topic_sents_keywords.groupby('Dominant_Topic')\n",
    "\n",
    "for i, grp in sent_topics_outdf_grpd:\n",
    "    sent_topics_sorteddf = pd.concat([sent_topics_sorteddf, \n",
    "                                             grp.sort_values(['Perc_Contribution'], ascending=False).head(1)], \n",
    "                                            axis=0)\n",
    "\n",
    "# Reset Index    \n",
    "sent_topics_sorteddf.reset_index(drop=True, inplace=True)\n",
    "\n",
    "# Format\n",
    "sent_topics_sorteddf.columns = ['Topic_Num', \"Topic_Perc_Contrib\", \"Keywords\", \"Representative Text\"]\n",
    "\n",
    "# Show\n",
    "sent_topics_sorteddf.head(10)"
   ]
  },
  {
   "cell_type": "code",
   "execution_count": 70,
   "id": "7b588caa",
   "metadata": {},
   "outputs": [
    {
     "data": {
      "text/plain": [
       "post_id                                                                                                         b2hhw7\n",
       "title              Turkey Meat Products Market Size, Share, Key Growth Drivers, Analysis, Challenges, Leading Key P...\n",
       "selftext                                                                                                           NaN\n",
       "url                https://www.nbc29.com/story/40132267/turkey-meat-products-market-size-share-key-growth-drivers-a...\n",
       "author                                                                                                  chitradeo00777\n",
       "score                                                                                                                1\n",
       "publish_date                                                                                            3/18/2019 6:20\n",
       "num_of_comments                                                                                                      0\n",
       "permalink                                   /r/food/comments/b2hhw7/turkey_meat_products_market_size_share_key_growth/\n",
       "flair                                                                                                              NaN\n",
       "key_word                                                                                                          meat\n",
       "Name: 6547, dtype: object"
      ]
     },
     "execution_count": 70,
     "metadata": {},
     "output_type": "execute_result"
    }
   ],
   "source": [
    "# Retrieve the representative posts for topic 0 -- Local Cases\n",
    "\n",
    "topic0_reptext = sent_topics_sorteddf['Representative Text'][0]\n",
    "topic0_index = processed_posts.index(topic0_reptext)\n",
    "\n",
    "topic0_reppost = reddit_df.iloc[topic0_index]\n",
    "topic0_reppost"
   ]
  },
  {
   "cell_type": "code",
   "execution_count": 73,
   "id": "bd0b4dd3",
   "metadata": {},
   "outputs": [
    {
     "data": {
      "text/plain": [
       "post_id                                                                                                         pi4u0f\n",
       "title              [Homemade] Grilled Rosemary Chicken on Roasted Vegetables Tapenade (Bell Peppers, Zucchini, Eggp...\n",
       "selftext                                                                                                           NaN\n",
       "url                                                                                https://i.redd.it/3f2kls2ujll71.jpg\n",
       "author                                                                                                   4food_is_love\n",
       "score                                                                                                                1\n",
       "publish_date                                                                                            9/4/2021 21:35\n",
       "num_of_comments                                                                                                      0\n",
       "permalink                                        /r/food/comments/pi4u0f/homemade_grilled_rosemary_chicken_on_roasted/\n",
       "flair                                                                                                              NaN\n",
       "key_word                                                                                                         Vegan\n",
       "Name: 4855, dtype: object"
      ]
     },
     "execution_count": 73,
     "metadata": {},
     "output_type": "execute_result"
    }
   ],
   "source": [
    "# Retrieve the representative tweet for topic 3 -- Policy Measures\n",
    "\n",
    "topic3_reptext = sent_topics_sorteddf['Representative Text'][3]\n",
    "topic3_index = processed_posts.index(topic3_reptext)\n",
    "\n",
    "topic3_reppost = reddit_df.iloc[topic3_index]\n",
    "topic3_reppost"
   ]
  },
  {
   "cell_type": "markdown",
   "id": "c860df6e",
   "metadata": {},
   "source": [
    "# Visualise topics"
   ]
  },
  {
   "cell_type": "code",
   "execution_count": 76,
   "id": "bcb1eddf",
   "metadata": {},
   "outputs": [],
   "source": [
    "import pyLDAvis.gensim_models"
   ]
  },
  {
   "cell_type": "code",
   "execution_count": 78,
   "id": "79711029",
   "metadata": {},
   "outputs": [
    {
     "name": "stderr",
     "output_type": "stream",
     "text": [
      "C:\\Users\\jesud\\anaconda3\\lib\\site-packages\\pyLDAvis\\_prepare.py:246: FutureWarning: In a future version of pandas all arguments of DataFrame.drop except for the argument 'labels' will be keyword-only\n",
      "  default_term_info = default_term_info.sort_values(\n"
     ]
    }
   ],
   "source": [
    "pyLDAvis.enable_notebook()\n",
    "p = pyLDAvis.gensim_models.prepare(ldamodel, corpus_vect, dictionary)"
   ]
  },
  {
   "cell_type": "code",
   "execution_count": 79,
   "id": "de71e889",
   "metadata": {},
   "outputs": [
    {
     "data": {
      "text/html": [
       "\n",
       "<link rel=\"stylesheet\" type=\"text/css\" href=\"https://cdn.jsdelivr.net/gh/bmabey/pyLDAvis@3.3.1/pyLDAvis/js/ldavis.v1.0.0.css\">\n",
       "\n",
       "\n",
       "<div id=\"ldavis_el2703622826467883525539227867\"></div>\n",
       "<script type=\"text/javascript\">\n",
       "\n",
       "var ldavis_el2703622826467883525539227867_data = {\"mdsDat\": {\"x\": [-0.11563124516471114, -0.09978681505354704, 0.3065751181276093, -0.09115705790935112], \"y\": [-0.21533600148542933, 0.23079661862329606, -0.008242870585480372, -0.00721774655238625], \"topics\": [1, 2, 3, 4], \"cluster\": [1, 1, 1, 1], \"Freq\": [38.01526117924592, 26.580387134411055, 19.31189834358444, 16.09245334275859]}, \"tinfo\": {\"Term\": [\"meat\", \"vegetable\", \"cheese\", \"vegan\", \"ate\", \"potato\", \"chicken\", \"rice\", \"roasted\", \"board\", \"noodle\", \"recipe\", \"homemade\", \"smoked\", \"pizza\", \"sauce\", \"grilled\", \"pork\", \"garlic\", \"pie\", \"food\", \"tomato\", \"platter\", \"sandwich\", \"steak\", \"dish\", \"minced\", \"cake\", \"chocolate\", \"made\", \"potato\", \"roasted\", \"grilled\", \"garlic\", \"tomato\", \"steak\", \"salad\", \"red\", \"pasta\", \"roast\", \"baked\", \"salmon\", \"w\", \"curry\", \"mashed\", \"gravy\", \"root\", \"pickled\", \"pan\", \"stir\", \"green\", \"spinach\", \"sauted\", \"herb\", \"lemon\", \"ground\", \"oven\", \"duck\", \"olive\", \"black\", \"sweet\", \"chicken\", \"vegetable\", \"pepper\", \"fried\", \"sauce\", \"mushroom\", \"onion\", \"homemade\", \"bean\", \"rice\", \"beef\", \"egg\", \"fresh\", \"vegan\", \"amp\", \"pork\", \"ate\", \"cheese\", \"board\", \"pizza\", \"smoked\", \"platter\", \"sandwich\", \"minced\", \"spaghetti\", \"taco\", \"beyond\", \"rib\", \"lover\", \"montreal\", \"ball\", \"lasagna\", \"plate\", \"italian\", \"meatball\", \"loaf\", \"nacho\", \"poutine\", \"share\", \"half\", \"go\", \"wrapped\", \"forecast\", \"mexican\", \"charcuterie\", \"night\", \"trend\", \"different\", \"pie\", \"meat\", \"burger\", \"fruit\", \"double\", \"ate\", \"market\", \"homemade\", \"made\", \"amp\", \"veggie\", \"sauce\", \"bacon\", \"bbq\", \"stuffed\", \"bread\", \"sausage\", \"vegan\", \"recipe\", \"chocolate\", \"cake\", \"make\", \"first\", \"best\", \"im\", \"free\", \"easy\", \"home\", \"meal\", \"cooking\", \"time\", \"taste\", \"cook\", \"ever\", \"healthy\", \"great\", \"love\", \"gluten\", \"cooky\", \"making\", \"ingredient\", \"know\", \"tasty\", \"try\", \"attempt\", \"dont\", \"birthday\", \"perfect\", \"vegetarian\", \"year\", \"vegan\", \"food\", \"good\", \"made\", \"day\", \"delicious\", \"homemade\", \"prochef\", \"ate\", \"dish\", \"roll\", \"fish\", \"crab\", \"filled\", \"chinese\", \"dumpling\", \"korean\", \"spring\", \"lobster\", \"broth\", \"seafood\", \"hour\", \"boiled\", \"belly\", \"sushi\", \"tuna\", \"stirfried\", \"wagyu\", \"deep\", \"lb\", \"tempura\", \"wild\", \"noodle\", \"prawn\", \"horse\", \"grill\", \"stirfry\", \"candy\", \"burnt\", \"ramen\", \"traditional\", \"shredded\", \"pork\", \"rice\", \"meat\", \"ate\", \"shrimp\", \"vegetable\", \"soup\", \"homemade\", \"stew\", \"egg\", \"beef\", \"cooked\", \"chicken\", \"fried\", \"food\", \"mixed\", \"spicy\", \"amp\"], \"Freq\": [4720.0, 2406.0, 1060.0, 1684.0, 1554.0, 594.0, 802.0, 616.0, 483.0, 330.0, 233.0, 235.0, 5470.0, 280.0, 270.0, 928.0, 349.0, 350.0, 323.0, 282.0, 261.0, 302.0, 206.0, 203.0, 266.0, 136.0, 188.0, 146.0, 146.0, 504.0, 594.2452315573785, 483.2270938696553, 348.65495927489985, 322.8949007994384, 301.54655053282784, 266.2635900046148, 239.0532198335917, 214.88409215543504, 208.3619356220175, 203.76602703970215, 162.95520196245303, 137.6678986278079, 137.62434501795357, 127.42158342490694, 115.57610110375232, 111.11118529340591, 104.29496236560364, 102.07953725513846, 96.90936831043781, 95.69394735992404, 164.85015051085583, 92.2114081846769, 84.28084768445555, 84.83871147507766, 82.0469306157893, 87.90006414537446, 82.4017563014062, 79.53095240308873, 76.82806986940807, 74.12988985314578, 152.24117990949378, 716.2144258378142, 1976.232613130391, 207.2424598577722, 311.74846843892584, 675.8335768238077, 230.69777305368643, 254.0161046833901, 2920.0544143910697, 161.5552348651351, 393.5732950077651, 245.31689004926793, 223.77375874500146, 152.97829951482433, 549.815072456275, 235.12387926439766, 196.64712104589262, 279.89364310870945, 1060.1913707528443, 330.0965501522897, 269.414248701712, 279.6422756939229, 205.3972235103798, 202.32625656371326, 187.6430665052721, 166.17997101628362, 145.1235835910981, 138.1549074404292, 108.19759373626462, 91.09032459029488, 80.74894329501508, 115.63460888307945, 76.0907066451868, 76.86516463518974, 64.37853756043799, 52.92802190750116, 51.69414124327608, 49.12268173696405, 39.045117677216865, 38.87617175096051, 33.7051885667282, 35.940286597907594, 34.39242471669749, 31.00457778135757, 33.14761140395308, 29.602034056837375, 29.881904540085266, 28.16784560952426, 33.18522774148345, 259.2220997510816, 3825.702303351769, 193.31083001187358, 116.4540594845253, 42.91060675587264, 801.0376423640197, 72.17637362623113, 1815.9633417326916, 186.52295598125554, 175.55976760873506, 80.03910446238163, 239.51495878447005, 93.8868486954486, 79.46459644211406, 82.62181091272551, 86.13019984773938, 83.29046736259062, 103.81644968088533, 235.14053793913132, 145.61612195111525, 145.97416138219307, 127.0682769982987, 118.08748621984888, 114.62619247024246, 90.233117374552, 87.74818685313363, 87.4146406411134, 79.2982721941145, 87.83821313419648, 71.93305723621779, 72.06528267782566, 71.16192132743694, 67.65078394730995, 64.65540940084402, 60.703780516879306, 58.87208681767077, 55.38063324511403, 50.707680465136356, 50.413649417769, 48.727112821004695, 47.86685349365351, 47.873760216067055, 48.32964253928105, 46.75470255705831, 46.2877329419129, 44.14272839238405, 44.06990568184976, 37.23729528052893, 66.71576971342883, 62.01121674621317, 1030.8385643737145, 201.8897494368304, 85.98698669001372, 207.77149457093853, 65.75853873868134, 82.61834700802422, 252.89171389135538, 57.02462991222136, 61.91189484586943, 135.35810239442242, 115.91738900350792, 111.05548640244297, 106.46699358847556, 73.70585818133492, 72.6036241130882, 63.01841492106949, 55.63347593806663, 50.17080131970185, 48.25790178770034, 48.75211260687457, 46.12588156558321, 46.922234848418896, 49.35238110707108, 40.64773843341673, 37.9182512568465, 37.41049524210822, 33.04292055721826, 33.091457264037366, 32.256268760896354, 30.128929491384998, 28.11870771461864, 27.741705138365006, 227.24431796343552, 27.37299302976588, 26.659242898698274, 26.718028520509765, 24.489507196345677, 24.89859288709774, 23.250061790021846, 86.12967431751626, 42.23514343237825, 35.213211006612006, 153.86876114702218, 222.2898267638618, 884.3850281400585, 411.99980184232487, 77.08448136394794, 429.98327818775863, 95.1544104250501, 481.32862682853266, 56.13522487666542, 93.9348334523319, 89.34713689796973, 60.98613792420812, 86.18121456240512, 65.97644909631731, 59.026472777524155, 51.28129658135289, 51.23030669236765, 50.315474664153015], \"Total\": [4720.0, 2406.0, 1060.0, 1684.0, 1554.0, 594.0, 802.0, 616.0, 483.0, 330.0, 233.0, 235.0, 5470.0, 280.0, 270.0, 928.0, 349.0, 350.0, 323.0, 282.0, 261.0, 302.0, 206.0, 203.0, 266.0, 136.0, 188.0, 146.0, 146.0, 504.0, 594.9507250767421, 483.9145431480102, 349.36659361204084, 323.59427664710154, 302.25139101450236, 266.98942244112055, 239.75906131979517, 215.5901437221373, 209.06910965249074, 204.45991855410358, 163.65592416012768, 138.36223795038453, 138.3338569107918, 128.1172684623125, 116.26781839363791, 111.81123679735445, 104.98554885748297, 102.79196168918872, 97.59967995081956, 96.39816834386649, 166.088837595347, 92.92102810391305, 84.97193639880676, 85.54196466124117, 82.74720083371639, 88.66641392980607, 83.12777383999611, 80.23455943667044, 77.53403281482062, 74.84954202682358, 156.68938741694146, 802.866103259606, 2406.6807044487778, 222.48395641822776, 378.1906448596843, 928.1699530332531, 269.98290450304887, 303.1502470366719, 5470.23809684365, 190.170804494484, 616.3261375026991, 339.5471080653691, 326.1997085232775, 188.65645378243582, 1684.7021533950804, 461.2776661160858, 350.9872999437748, 1554.8429821609234, 1060.9422287539426, 330.8254219146239, 270.1532844783305, 280.42082290521876, 206.13630292855638, 203.07125938543578, 188.42927920895522, 166.91910335106948, 145.8696026200617, 138.9062913873178, 108.98702207725255, 91.83818958233958, 81.47976506003398, 116.70537275828532, 76.83129133125904, 77.62057234494566, 65.14344265735407, 53.679224998759246, 52.44265105865277, 49.87426264677494, 39.77483196975306, 39.63869994445883, 34.46293874683866, 36.74928284737302, 35.17917828544803, 31.73515072027733, 33.94098749907894, 30.332056983172603, 30.62781843832567, 28.895100778099756, 34.046009889974165, 282.82828597302137, 4720.481295437056, 261.098316271119, 149.24740981377607, 46.12915612745918, 1554.8429821609234, 86.0171955846424, 5470.23809684365, 504.1077356458052, 461.2776661160858, 130.8022398908974, 928.1699530332531, 190.67537641219263, 144.43207740843297, 174.35581129962762, 233.55002743264282, 192.44426725441946, 1684.7021533950804, 235.81522097886267, 146.28149323867038, 146.65469566143764, 127.74738560562939, 118.76670121228612, 115.29950461972491, 90.91014028233676, 88.42352734127876, 88.08858254887863, 79.9867509780112, 88.61745667191447, 72.60727241217693, 72.74283132968905, 71.84871771466806, 68.33313097337616, 65.33276613363212, 61.37562042192909, 59.54862818118924, 56.07176091715911, 51.37482749262013, 51.08327128307647, 49.40089219940166, 48.53930009535355, 48.554888806402516, 49.02214265639085, 47.42535871322161, 46.98306631188246, 44.81598285404468, 44.76250357868079, 37.917242795514944, 68.29822039143563, 65.54389444179276, 1684.7021533950804, 261.3648683482879, 97.6626041764478, 504.1077356458052, 86.71262128572629, 138.09303333332883, 5470.23809684365, 214.64514699616794, 1554.8429821609234, 136.079498175459, 116.63653319583935, 111.77020465993151, 107.17932813242405, 74.43395590760194, 73.32382343322016, 63.727452515869246, 56.34367341379238, 50.8886311935358, 48.97023843300926, 49.47443525051978, 46.829134110889854, 47.64830640534661, 50.14764311694131, 41.35677960879036, 38.63320559357663, 38.12404161702555, 33.74559798928707, 33.80345139557766, 32.97369358153341, 30.848261013972493, 28.82269283508151, 28.452062538018648, 233.10013634697447, 28.082013976180814, 27.371947555389934, 27.44054563478056, 25.19820538350068, 25.634757394814176, 23.956623184119337, 92.79986147316419, 50.48601871303032, 40.98703842869759, 350.9872999437748, 616.3261375026991, 4720.481295437056, 1554.8429821609234, 129.99386356909798, 2406.6807044487778, 209.40453522837768, 5470.23809684365, 97.73405893926898, 326.1997085232775, 339.5471080653691, 139.59131506987822, 802.866103259606, 378.1906448596843, 261.3648683482879, 181.6693160107689, 200.1453457546251, 461.2776661160858], \"Category\": [\"Default\", \"Default\", \"Default\", \"Default\", \"Default\", \"Default\", \"Default\", \"Default\", \"Default\", \"Default\", \"Default\", \"Default\", \"Default\", \"Default\", \"Default\", \"Default\", \"Default\", \"Default\", \"Default\", \"Default\", \"Default\", \"Default\", \"Default\", \"Default\", \"Default\", \"Default\", \"Default\", \"Default\", \"Default\", \"Default\", \"Topic1\", \"Topic1\", \"Topic1\", \"Topic1\", \"Topic1\", \"Topic1\", \"Topic1\", \"Topic1\", \"Topic1\", \"Topic1\", \"Topic1\", \"Topic1\", \"Topic1\", \"Topic1\", \"Topic1\", \"Topic1\", \"Topic1\", \"Topic1\", \"Topic1\", \"Topic1\", \"Topic1\", \"Topic1\", \"Topic1\", \"Topic1\", \"Topic1\", \"Topic1\", \"Topic1\", \"Topic1\", \"Topic1\", \"Topic1\", \"Topic1\", \"Topic1\", \"Topic1\", \"Topic1\", \"Topic1\", \"Topic1\", \"Topic1\", \"Topic1\", \"Topic1\", \"Topic1\", \"Topic1\", \"Topic1\", \"Topic1\", \"Topic1\", \"Topic1\", \"Topic1\", \"Topic1\", \"Topic1\", \"Topic2\", \"Topic2\", \"Topic2\", \"Topic2\", \"Topic2\", \"Topic2\", \"Topic2\", \"Topic2\", \"Topic2\", \"Topic2\", \"Topic2\", \"Topic2\", \"Topic2\", \"Topic2\", \"Topic2\", \"Topic2\", \"Topic2\", \"Topic2\", \"Topic2\", \"Topic2\", \"Topic2\", \"Topic2\", \"Topic2\", \"Topic2\", \"Topic2\", \"Topic2\", \"Topic2\", \"Topic2\", \"Topic2\", \"Topic2\", \"Topic2\", \"Topic2\", \"Topic2\", \"Topic2\", \"Topic2\", \"Topic2\", \"Topic2\", \"Topic2\", \"Topic2\", \"Topic2\", \"Topic2\", \"Topic2\", \"Topic2\", \"Topic2\", \"Topic2\", \"Topic2\", \"Topic2\", \"Topic2\", \"Topic2\", \"Topic3\", \"Topic3\", \"Topic3\", \"Topic3\", \"Topic3\", \"Topic3\", \"Topic3\", \"Topic3\", \"Topic3\", \"Topic3\", \"Topic3\", \"Topic3\", \"Topic3\", \"Topic3\", \"Topic3\", \"Topic3\", \"Topic3\", \"Topic3\", \"Topic3\", \"Topic3\", \"Topic3\", \"Topic3\", \"Topic3\", \"Topic3\", \"Topic3\", \"Topic3\", \"Topic3\", \"Topic3\", \"Topic3\", \"Topic3\", \"Topic3\", \"Topic3\", \"Topic3\", \"Topic3\", \"Topic3\", \"Topic3\", \"Topic3\", \"Topic3\", \"Topic3\", \"Topic3\", \"Topic3\", \"Topic4\", \"Topic4\", \"Topic4\", \"Topic4\", \"Topic4\", \"Topic4\", \"Topic4\", \"Topic4\", \"Topic4\", \"Topic4\", \"Topic4\", \"Topic4\", \"Topic4\", \"Topic4\", \"Topic4\", \"Topic4\", \"Topic4\", \"Topic4\", \"Topic4\", \"Topic4\", \"Topic4\", \"Topic4\", \"Topic4\", \"Topic4\", \"Topic4\", \"Topic4\", \"Topic4\", \"Topic4\", \"Topic4\", \"Topic4\", \"Topic4\", \"Topic4\", \"Topic4\", \"Topic4\", \"Topic4\", \"Topic4\", \"Topic4\", \"Topic4\", \"Topic4\", \"Topic4\", \"Topic4\", \"Topic4\", \"Topic4\", \"Topic4\", \"Topic4\", \"Topic4\", \"Topic4\", \"Topic4\", \"Topic4\", \"Topic4\", \"Topic4\"], \"logprob\": [30.0, 29.0, 28.0, 27.0, 26.0, 25.0, 24.0, 23.0, 22.0, 21.0, 20.0, 19.0, 18.0, 17.0, 16.0, 15.0, 14.0, 13.0, 12.0, 11.0, 10.0, 9.0, 8.0, 7.0, 6.0, 5.0, 4.0, 3.0, 2.0, 1.0, -3.9117, -4.1185, -4.4449, -4.5216, -4.59, -4.7145, -4.8223, -4.9289, -4.9597, -4.982, -5.2055, -5.3741, -5.3744, -5.4515, -5.549, -5.5884, -5.6517, -5.6732, -5.7252, -5.7378, -5.1939, -5.7749, -5.8648, -5.8582, -5.8917, -5.8228, -5.8874, -5.9228, -5.9574, -5.9931, -5.2735, -3.725, -2.71, -4.9651, -4.5568, -3.783, -4.8579, -4.7616, -2.3196, -5.2141, -4.3237, -4.7964, -4.8883, -5.2687, -3.9894, -4.8388, -5.0175, -4.6646, -2.9749, -4.1418, -4.3449, -4.3076, -4.6162, -4.6313, -4.7066, -4.8281, -4.9636, -5.0128, -5.2572, -5.4293, -5.5498, -5.1907, -5.6092, -5.5991, -5.7764, -5.9722, -5.9958, -6.0468, -6.2764, -6.2808, -6.4235, -6.3593, -6.4033, -6.507, -6.4402, -6.5533, -6.5439, -6.603, -6.439, -4.3835, -1.6916, -4.6768, -5.1836, -6.182, -3.2552, -5.662, -2.4368, -4.7126, -4.7732, -5.5586, -4.4625, -5.3991, -5.5658, -5.5269, -5.4853, -5.5188, -5.2985, -4.1615, -4.6407, -4.6383, -4.777, -4.8503, -4.88, -5.1193, -5.1472, -5.151, -5.2485, -5.1462, -5.346, -5.3441, -5.3567, -5.4073, -5.4526, -5.5157, -5.5463, -5.6075, -5.6956, -5.7014, -5.7355, -5.7533, -5.7531, -5.7436, -5.7768, -5.7868, -5.8343, -5.8359, -6.0044, -5.4213, -5.4944, -2.6836, -4.314, -5.1675, -4.2853, -5.4357, -5.2075, -4.0887, -5.5782, -5.496, -4.5314, -4.6864, -4.7293, -4.7715, -5.1392, -5.1543, -5.2959, -5.4205, -5.5239, -5.5628, -5.5526, -5.6079, -5.5908, -5.5403, -5.7344, -5.8039, -5.8174, -5.9415, -5.94, -5.9656, -6.0338, -6.1029, -6.1164, -4.0133, -6.1298, -6.1562, -6.154, -6.2411, -6.2245, -6.293, -4.9835, -5.6961, -5.8779, -4.4032, -4.0353, -2.6544, -3.4183, -5.0944, -3.3756, -4.8838, -3.2628, -5.4116, -4.8967, -4.9468, -5.3287, -4.9829, -5.25, -5.3613, -5.502, -5.503, -5.521], \"loglift\": [30.0, 29.0, 28.0, 27.0, 26.0, 25.0, 24.0, 23.0, 22.0, 21.0, 20.0, 19.0, 18.0, 17.0, 16.0, 15.0, 14.0, 13.0, 12.0, 11.0, 10.0, 9.0, 8.0, 7.0, 6.0, 5.0, 4.0, 3.0, 2.0, 1.0, 0.966, 0.9658, 0.9651, 0.965, 0.9648, 0.9645, 0.9642, 0.9639, 0.9638, 0.9638, 0.9629, 0.9622, 0.962, 0.9617, 0.9612, 0.9609, 0.9606, 0.9602, 0.9601, 0.9599, 0.9597, 0.9595, 0.959, 0.9589, 0.9587, 0.9585, 0.9584, 0.9584, 0.958, 0.9575, 0.9384, 0.853, 0.7701, 0.8962, 0.774, 0.6499, 0.8099, 0.7904, 0.3395, 0.8041, 0.5187, 0.6421, 0.5903, 0.7576, -0.1526, 0.2933, 0.3878, -0.7475, 1.3243, 1.3228, 1.3223, 1.3222, 1.3214, 1.3213, 1.3208, 1.3206, 1.3199, 1.3196, 1.3177, 1.3168, 1.316, 1.3158, 1.3153, 1.3152, 1.3132, 1.3109, 1.3106, 1.3098, 1.3065, 1.3056, 1.3028, 1.3027, 1.3024, 1.3017, 1.3013, 1.3006, 1.3003, 1.2995, 1.2994, 1.2378, 1.1148, 1.0244, 1.0769, 1.2527, 0.6618, 1.1496, 0.2223, 0.3308, 0.359, 0.8338, -0.0296, 0.6165, 0.7275, 0.5782, 0.3275, 0.4875, -1.4617, 1.6416, 1.6399, 1.6398, 1.6391, 1.6387, 1.6386, 1.637, 1.6368, 1.6368, 1.6358, 1.6356, 1.6351, 1.6351, 1.6348, 1.6344, 1.634, 1.6334, 1.633, 1.632, 1.6314, 1.6313, 1.6307, 1.6305, 1.6303, 1.6302, 1.6302, 1.6295, 1.6293, 1.6289, 1.6264, 1.621, 1.589, 1.1532, 1.3863, 1.5171, 0.7581, 1.3678, 1.1308, -1.4297, 0.3189, -1.579, 1.8215, 1.8206, 1.8204, 1.8202, 1.817, 1.8169, 1.8156, 1.8141, 1.8126, 1.8122, 1.8121, 1.8117, 1.8115, 1.8108, 1.8095, 1.8081, 1.8079, 1.8058, 1.8055, 1.8048, 1.8032, 1.8021, 1.8015, 1.8014, 1.8012, 1.8004, 1.8001, 1.7983, 1.7977, 1.7969, 1.7522, 1.6484, 1.675, 1.0022, 0.807, 0.152, 0.4987, 1.3042, 0.1046, 1.0381, -0.6037, 1.2723, 0.5819, 0.4917, 0.9987, -0.4049, 0.0807, 0.3389, 0.562, 0.4641, -0.3889]}, \"token.table\": {\"Topic\": [1, 2, 4, 1, 2, 3, 4, 3, 1, 2, 1, 2, 3, 1, 2, 4, 1, 4, 1, 3, 4, 4, 3, 2, 3, 1, 2, 4, 1, 2, 3, 4, 1, 2, 3, 4, 3, 4, 2, 2, 1, 4, 4, 3, 3, 1, 3, 4, 3, 3, 4, 1, 2, 3, 4, 2, 3, 2, 4, 3, 2, 3, 1, 4, 3, 1, 3, 4, 3, 4, 3, 4, 3, 4, 2, 3, 1, 2, 3, 4, 1, 4, 2, 3, 4, 1, 3, 2, 3, 4, 1, 3, 1, 4, 4, 1, 1, 2, 3, 1, 3, 1, 2, 3, 4, 4, 4, 3, 3, 2, 3, 4, 2, 4, 1, 2, 4, 3, 2, 1, 2, 3, 3, 3, 2, 3, 1, 3, 2, 3, 4, 2, 2, 2, 1, 4, 2, 1, 4, 2, 2, 1, 4, 1, 1, 2, 1, 1, 1, 1, 2, 3, 1, 1, 2, 3, 2, 2, 2, 1, 4, 1, 2, 4, 1, 2, 3, 4, 1, 4, 3, 1, 2, 1, 4, 1, 1, 4, 1, 1, 1, 2, 1, 2, 4, 1, 2, 1, 4, 2, 3, 4, 1, 4, 2, 1, 4, 2, 1, 2, 4, 1, 4, 1, 1, 4, 1, 4, 4, 1, 2, 4, 1, 3, 2, 3, 3, 4, 3, 1, 2, 4, 2, 3, 4, 1, 2, 3, 1, 4, 2, 3, 1, 2, 4, 1, 4, 4, 2, 2, 3], \"Freq\": [0.5094545373910636, 0.3815489301311796, 0.10839458242363056, 0.18008249270987836, 0.5151645595021878, 0.039875409100044494, 0.26497852498739244, 0.979076156814528, 0.5034735045833707, 0.4929844732378838, 0.9959920536730104, 0.9939559529984429, 0.008568585801710715, 0.2146337611162131, 0.5469699073606721, 0.23540477025649179, 0.8518657762984796, 0.1472360601009718, 0.7215493643751869, 0.014725497232146672, 0.2621138507322108, 0.9913731288517801, 0.9974023772199826, 0.9934755195155938, 0.9829655734661822, 0.9886500036764535, 0.9975049622551772, 0.977114714758078, 0.5951615657167431, 0.36822945792546696, 0.034253903062834136, 0.9904104968936498, 0.07659949817229927, 0.7391851573626881, 0.18383879561351826, 0.9600685298271304, 0.9955358015746796, 0.9752384083438767, 0.9890526058500807, 0.9991118943817995, 0.8918049935014906, 0.10711624223621255, 0.9955836531967666, 0.9980756742877166, 0.995124898147782, 0.41549862877189525, 0.14327538923168803, 0.43698993715664847, 0.991636204032985, 0.9787940111142539, 0.98899668291476, 0.9912793296663115, 0.23064693124773739, 0.7611348731175334, 0.9704705941078218, 0.3982822208506424, 0.6010440787382422, 0.9692765791540761, 0.992067150526473, 0.9817925926850216, 0.9321653290423733, 0.06503479039830512, 0.9970765784928928, 0.9885849427970136, 0.9876421833865404, 0.6866958925685719, 0.024524853306020424, 0.28816702634574, 0.9949065965927192, 0.9941699201350976, 0.9935444766549868, 0.9931090341806664, 0.7728659221744375, 0.22573806637768223, 0.9768348123896698, 0.9952102415045703, 0.8109979644610733, 0.0530064029059525, 0.0530064029059525, 0.08481024464952401, 0.8249807451365111, 0.1745151576250312, 0.777232919115577, 0.11390482435314492, 0.10050425678218669, 0.9981635131088872, 0.992704063236534, 0.9796109532127488, 0.8805827033305719, 0.11263267135623593, 0.9927445861382901, 0.9907868879948012, 0.9934442457957361, 0.006020874216943855, 0.9839454491669374, 0.9989506907107211, 0.9924840319996064, 0.9865670554029254, 0.9938799735245546, 0.9936643416668366, 0.9876635697044068, 0.5337976059369065, 0.3319782371169254, 0.04625027202124567, 0.0879303590601548, 0.9864113594899574, 0.9863939255294525, 0.989988572457262, 0.9888894134383043, 0.9824473099561466, 0.988571927152074, 0.9939004081031704, 0.9891803024932262, 0.9725021448182029, 0.9909700772208848, 0.9915593310079289, 0.9801871817647665, 0.9808859058529918, 0.990873191358067, 0.2182073239941073, 0.3709524507899824, 0.41261021264340286, 0.9941495037093232, 0.9918849198556273, 0.8370419369130765, 0.15113257194263882, 0.9976965389276405, 0.9930323358951673, 0.8105105730846374, 0.002118428053017871, 0.1872690398867798, 0.9873465945386704, 0.9722757772117125, 0.9977218019898109, 0.7155858944957657, 0.28072985091756963, 0.9941118502283298, 0.8556097299019588, 0.1444535907626684, 0.9824706652213239, 0.9795016925678239, 0.02145000890328693, 0.9738304042092267, 0.9931122786287141, 0.8378683589503187, 0.16163602200222685, 0.9864332486255816, 0.9938557180605332, 0.9948863337378354, 0.9304041663610079, 0.06742059176529042, 0.9758093487846262, 0.9922954900735976, 0.081321427667224, 0.9157499898178703, 0.0035357142464010434, 0.9957309996043265, 0.9920050532198109, 0.9944876137176565, 0.5612738695433075, 0.43876231426228096, 0.9984020103906598, 0.9805195413435742, 0.9614695022551238, 0.3773670224253712, 0.2748722755937889, 0.26555457133637234, 0.08385933831674915, 0.06465526892769206, 0.9267255212969195, 0.9965429670931388, 0.9972626590810297, 0.9909436733067821, 0.6392719309235437, 0.36019890524118453, 0.9977505686329329, 0.9981101143560167, 0.9945425916014619, 0.990612528407878, 0.9968340661845405, 0.9973819594439169, 0.9947247119623044, 0.7283148929685093, 0.25857333478171923, 0.014006055634009792, 0.5663977501387318, 0.4312936996469242, 0.9885616776550191, 0.982294481274702, 0.9838869603353853, 0.12198978486084487, 0.8539284940259141, 0.4000188822171556, 0.592335652513865, 0.998499316488487, 0.5444008167047146, 0.4536673472539289, 0.994493719816261, 0.7394626112437586, 0.004996368994890261, 0.2548148187394033, 0.9900880551721505, 0.9825377265472867, 0.9962941511612178, 0.41950575311189126, 0.5729834676650222, 0.9958695445078773, 0.9779053259176569, 0.9524487809641696, 0.5219212329184599, 0.476038047606947, 0.9836098096482598, 0.9700720802203198, 0.025528212637376837, 0.9940384932539598, 0.9881874340744875, 0.9791493679997768, 0.9714567670762473, 0.9897882538236331, 0.9991682717698716, 0.15845971229130054, 0.8319134895293279, 0.9690224033141919, 0.9910309858530806, 0.970516200031542, 0.32646720305522114, 0.06173198021407818, 0.6119776115453327, 0.8210478425107829, 0.17866931795528168, 0.014641669933253438, 0.9809918855279803, 0.11467693529186926, 0.611610321556636, 0.2675795156810283, 0.9975865856830183, 0.9762316756896968, 0.9841114317313697, 0.9664807894067327, 0.04577085364776722, 0.9459309753871893], \"Term\": [\"amp\", \"amp\", \"amp\", \"ate\", \"ate\", \"ate\", \"ate\", \"attempt\", \"bacon\", \"bacon\", \"baked\", \"ball\", \"ball\", \"bbq\", \"bbq\", \"bbq\", \"bean\", \"bean\", \"beef\", \"beef\", \"beef\", \"belly\", \"best\", \"beyond\", \"birthday\", \"black\", \"board\", \"boiled\", \"bread\", \"bread\", \"bread\", \"broth\", \"burger\", \"burger\", \"burger\", \"burnt\", \"cake\", \"candy\", \"charcuterie\", \"cheese\", \"chicken\", \"chicken\", \"chinese\", \"chocolate\", \"cook\", \"cooked\", \"cooked\", \"cooked\", \"cooking\", \"cooky\", \"crab\", \"curry\", \"day\", \"day\", \"deep\", \"delicious\", \"delicious\", \"different\", \"dish\", \"dont\", \"double\", \"double\", \"duck\", \"dumpling\", \"easy\", \"egg\", \"egg\", \"egg\", \"ever\", \"filled\", \"first\", \"fish\", \"food\", \"food\", \"forecast\", \"free\", \"fresh\", \"fresh\", \"fresh\", \"fresh\", \"fried\", \"fried\", \"fruit\", \"fruit\", \"fruit\", \"garlic\", \"gluten\", \"go\", \"good\", \"good\", \"gravy\", \"great\", \"green\", \"green\", \"grill\", \"grilled\", \"ground\", \"half\", \"healthy\", \"herb\", \"home\", \"homemade\", \"homemade\", \"homemade\", \"homemade\", \"horse\", \"hour\", \"im\", \"ingredient\", \"italian\", \"know\", \"korean\", \"lasagna\", \"lb\", \"lemon\", \"loaf\", \"lobster\", \"love\", \"lover\", \"made\", \"made\", \"made\", \"make\", \"making\", \"market\", \"market\", \"mashed\", \"meal\", \"meat\", \"meat\", \"meat\", \"meatball\", \"mexican\", \"minced\", \"mixed\", \"mixed\", \"montreal\", \"mushroom\", \"mushroom\", \"nacho\", \"night\", \"noodle\", \"noodle\", \"olive\", \"onion\", \"onion\", \"oven\", \"pan\", \"pasta\", \"pepper\", \"pepper\", \"perfect\", \"pickled\", \"pie\", \"pie\", \"pie\", \"pizza\", \"plate\", \"platter\", \"pork\", \"pork\", \"potato\", \"poutine\", \"prawn\", \"prochef\", \"prochef\", \"prochef\", \"prochef\", \"ramen\", \"ramen\", \"recipe\", \"red\", \"rib\", \"rice\", \"rice\", \"roast\", \"roasted\", \"roll\", \"root\", \"salad\", \"salmon\", \"sandwich\", \"sauce\", \"sauce\", \"sauce\", \"sausage\", \"sausage\", \"sauted\", \"seafood\", \"share\", \"shredded\", \"shredded\", \"shrimp\", \"shrimp\", \"smoked\", \"soup\", \"soup\", \"spaghetti\", \"spicy\", \"spicy\", \"spicy\", \"spinach\", \"spring\", \"steak\", \"stew\", \"stew\", \"stir\", \"stirfried\", \"stirfry\", \"stuffed\", \"stuffed\", \"sushi\", \"sweet\", \"sweet\", \"taco\", \"taste\", \"tasty\", \"tempura\", \"time\", \"tomato\", \"traditional\", \"traditional\", \"trend\", \"try\", \"tuna\", \"vegan\", \"vegan\", \"vegan\", \"vegetable\", \"vegetable\", \"vegetarian\", \"vegetarian\", \"veggie\", \"veggie\", \"veggie\", \"w\", \"wagyu\", \"wild\", \"wrapped\", \"year\", \"year\"]}, \"R\": 30, \"lambda.step\": 0.01, \"plot.opts\": {\"xlab\": \"PC1\", \"ylab\": \"PC2\"}, \"topic.order\": [4, 1, 3, 2]};\n",
       "\n",
       "function LDAvis_load_lib(url, callback){\n",
       "  var s = document.createElement('script');\n",
       "  s.src = url;\n",
       "  s.async = true;\n",
       "  s.onreadystatechange = s.onload = callback;\n",
       "  s.onerror = function(){console.warn(\"failed to load library \" + url);};\n",
       "  document.getElementsByTagName(\"head\")[0].appendChild(s);\n",
       "}\n",
       "\n",
       "if(typeof(LDAvis) !== \"undefined\"){\n",
       "   // already loaded: just create the visualization\n",
       "   !function(LDAvis){\n",
       "       new LDAvis(\"#\" + \"ldavis_el2703622826467883525539227867\", ldavis_el2703622826467883525539227867_data);\n",
       "   }(LDAvis);\n",
       "}else if(typeof define === \"function\" && define.amd){\n",
       "   // require.js is available: use it to load d3/LDAvis\n",
       "   require.config({paths: {d3: \"https://d3js.org/d3.v5\"}});\n",
       "   require([\"d3\"], function(d3){\n",
       "      window.d3 = d3;\n",
       "      LDAvis_load_lib(\"https://cdn.jsdelivr.net/gh/bmabey/pyLDAvis@3.3.1/pyLDAvis/js/ldavis.v3.0.0.js\", function(){\n",
       "        new LDAvis(\"#\" + \"ldavis_el2703622826467883525539227867\", ldavis_el2703622826467883525539227867_data);\n",
       "      });\n",
       "    });\n",
       "}else{\n",
       "    // require.js not available: dynamically load d3 & LDAvis\n",
       "    LDAvis_load_lib(\"https://d3js.org/d3.v5.js\", function(){\n",
       "         LDAvis_load_lib(\"https://cdn.jsdelivr.net/gh/bmabey/pyLDAvis@3.3.1/pyLDAvis/js/ldavis.v3.0.0.js\", function(){\n",
       "                 new LDAvis(\"#\" + \"ldavis_el2703622826467883525539227867\", ldavis_el2703622826467883525539227867_data);\n",
       "            })\n",
       "         });\n",
       "}\n",
       "</script>"
      ],
      "text/plain": [
       "PreparedData(topic_coordinates=              x         y  topics  cluster       Freq\n",
       "topic                                                \n",
       "3     -0.115631 -0.215336       1        1  38.015261\n",
       "0     -0.099787  0.230797       2        1  26.580387\n",
       "2      0.306575 -0.008243       3        1  19.311898\n",
       "1     -0.091157 -0.007218       4        1  16.092453, topic_info=          Term         Freq        Total Category  logprob  loglift\n",
       "21        meat  4720.000000  4720.000000  Default  30.0000  30.0000\n",
       "347  vegetable  2406.000000  2406.000000  Default  29.0000  29.0000\n",
       "164     cheese  1060.000000  1060.000000  Default  28.0000  28.0000\n",
       "8        vegan  1684.000000  1684.000000  Default  27.0000  27.0000\n",
       "15         ate  1554.000000  1554.000000  Default  26.0000  26.0000\n",
       "..         ...          ...          ...      ...      ...      ...\n",
       "356      fried    65.976449   378.190645   Topic4  -5.2500   0.0807\n",
       "41        food    59.026473   261.364868   Topic4  -5.3613   0.3389\n",
       "546      mixed    51.281297   181.669316   Topic4  -5.5020   0.5620\n",
       "81       spicy    51.230307   200.145346   Topic4  -5.5030   0.4641\n",
       "130        amp    50.315475   461.277666   Topic4  -5.5210  -0.3889\n",
       "\n",
       "[219 rows x 6 columns], token_table=      Topic      Freq     Term\n",
       "term                          \n",
       "130       1  0.509455      amp\n",
       "130       2  0.381549      amp\n",
       "130       4  0.108395      amp\n",
       "15        1  0.180082      ate\n",
       "15        2  0.515165      ate\n",
       "...     ...       ...      ...\n",
       "3624      4  0.976232    wagyu\n",
       "885       4  0.984111     wild\n",
       "2583      2  0.966481  wrapped\n",
       "1320      2  0.045771     year\n",
       "1320      3  0.945931     year\n",
       "\n",
       "[241 rows x 3 columns], R=30, lambda_step=0.01, plot_opts={'xlab': 'PC1', 'ylab': 'PC2'}, topic_order=[4, 1, 3, 2])"
      ]
     },
     "execution_count": 79,
     "metadata": {},
     "output_type": "execute_result"
    }
   ],
   "source": [
    "# Show visualisation\n",
    "p"
   ]
  },
  {
   "cell_type": "code",
   "execution_count": 80,
   "id": "4a0df3bc",
   "metadata": {},
   "outputs": [],
   "source": [
    "# Save visualisation to html page\n",
    "pyLDAvis.save_html(p, 'reddit_lda.html')"
   ]
  },
  {
   "cell_type": "markdown",
   "id": "1107eda9",
   "metadata": {},
   "source": [
    "# Finalize Model"
   ]
  },
  {
   "cell_type": "code",
   "execution_count": 81,
   "id": "1c859d72",
   "metadata": {},
   "outputs": [],
   "source": [
    "#save model to disk\n",
    "pickle.dump(ldamodel, open(\"reddit_topics\", \"wb\"))"
   ]
  },
  {
   "cell_type": "code",
   "execution_count": 82,
   "id": "6c3c11a4",
   "metadata": {},
   "outputs": [
    {
     "name": "stdout",
     "output_type": "stream",
     "text": [
      "0: 0.184*\"meat\" + 0.087*\"homemade\" + 0.051*\"cheese\" + 0.039*\"ate\" + 0.016*\"board\" + 0.013*\"smoked\" + 0.013*\"pizza\" + 0.012*\"pie\" + 0.012*\"sauce\" + 0.010*\"platter\"\n",
      "1: 0.070*\"meat\" + 0.038*\"homemade\" + 0.034*\"vegetable\" + 0.033*\"ate\" + 0.018*\"noodle\" + 0.018*\"rice\" + 0.012*\"pork\" + 0.011*\"dish\" + 0.009*\"roll\" + 0.009*\"fish\"\n",
      "2: 0.068*\"vegan\" + 0.017*\"homemade\" + 0.016*\"recipe\" + 0.014*\"made\" + 0.013*\"food\" + 0.010*\"cake\" + 0.010*\"chocolate\" + 0.008*\"make\" + 0.008*\"first\" + 0.008*\"best\"\n",
      "3: 0.098*\"homemade\" + 0.067*\"vegetable\" + 0.024*\"chicken\" + 0.023*\"sauce\" + 0.020*\"potato\" + 0.019*\"vegan\" + 0.016*\"roasted\" + 0.013*\"rice\" + 0.012*\"grilled\" + 0.011*\"garlic\"\n"
     ]
    }
   ],
   "source": [
    "#load model from disk\n",
    "ldamodel = pickle.load(open(\"reddit_topics\", 'rb'))\n",
    "for num ,topic in ldamodel.show_topics(formatted=True, num_topics=num_topics, num_words=10):\n",
    "    print(str(num)+\": \"+ topic)"
   ]
  },
  {
   "cell_type": "markdown",
   "id": "fc24bc13",
   "metadata": {},
   "source": [
    "# Save & Restore Notebook Session"
   ]
  },
  {
   "cell_type": "code",
   "execution_count": 83,
   "id": "174ca74a",
   "metadata": {},
   "outputs": [
    {
     "name": "stdout",
     "output_type": "stream",
     "text": [
      "Collecting dill\n",
      "  Using cached dill-0.3.4-py2.py3-none-any.whl (86 kB)\n",
      "Installing collected packages: dill\n",
      "Successfully installed dill-0.3.4\n"
     ]
    }
   ],
   "source": [
    "!pip install dill"
   ]
  },
  {
   "cell_type": "code",
   "execution_count": 84,
   "id": "207de191",
   "metadata": {},
   "outputs": [],
   "source": [
    "import dill"
   ]
  },
  {
   "cell_type": "code",
   "execution_count": 85,
   "id": "c2c1b547",
   "metadata": {},
   "outputs": [],
   "source": [
    "#save notebook session\n",
    "dill.dump_session('reddit_lda.db')"
   ]
  },
  {
   "cell_type": "code",
   "execution_count": 86,
   "id": "c4466e2c",
   "metadata": {},
   "outputs": [],
   "source": [
    "#restore notebook session\n",
    "dill.load_session('reddit_lda.db')"
   ]
  },
  {
   "cell_type": "code",
   "execution_count": null,
   "id": "81b70c88",
   "metadata": {},
   "outputs": [],
   "source": []
  }
 ],
 "metadata": {
  "kernelspec": {
   "display_name": "Python 3 (ipykernel)",
   "language": "python",
   "name": "python3"
  },
  "language_info": {
   "codemirror_mode": {
    "name": "ipython",
    "version": 3
   },
   "file_extension": ".py",
   "mimetype": "text/x-python",
   "name": "python",
   "nbconvert_exporter": "python",
   "pygments_lexer": "ipython3",
   "version": "3.9.7"
  }
 },
 "nbformat": 4,
 "nbformat_minor": 5
}
